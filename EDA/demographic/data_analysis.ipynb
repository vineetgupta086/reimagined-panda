{
 "cells": [
  {
   "cell_type": "code",
   "execution_count": 1,
   "id": "261feed1-dd49-482f-b311-7b40b22f4ffb",
   "metadata": {},
   "outputs": [],
   "source": [
    "#libraries\n",
    "import pandas as pd"
   ]
  },
  {
   "cell_type": "code",
   "execution_count": 2,
   "id": "f8738bea-f090-47ef-adff-583f0ced655b",
   "metadata": {},
   "outputs": [],
   "source": [
    "#data_source=\"https://replit.com/@vineetgupta086/boilerplate-demographic-data-analyzer#adult.data.csv\"\n",
    "data = pd.read_csv(\"adult_data.txt\",delimiter=\",\")\n",
    "data_c1 = data.copy()"
   ]
  },
  {
   "cell_type": "code",
   "execution_count": 3,
   "id": "2ed5541a-9709-446d-92cb-376ceca87141",
   "metadata": {},
   "outputs": [
    {
     "name": "stdout",
     "output_type": "stream",
     "text": [
      "   age         workclass  fnlwgt  education  education-num  \\\n",
      "0   39         State-gov   77516  Bachelors             13   \n",
      "1   50  Self-emp-not-inc   83311  Bachelors             13   \n",
      "2   38           Private  215646    HS-grad              9   \n",
      "3   53           Private  234721       11th              7   \n",
      "4   28           Private  338409  Bachelors             13   \n",
      "\n",
      "       marital-status         occupation   relationship   race     sex  \\\n",
      "0       Never-married       Adm-clerical  Not-in-family  White    Male   \n",
      "1  Married-civ-spouse    Exec-managerial        Husband  White    Male   \n",
      "2            Divorced  Handlers-cleaners  Not-in-family  White    Male   \n",
      "3  Married-civ-spouse  Handlers-cleaners        Husband  Black    Male   \n",
      "4  Married-civ-spouse     Prof-specialty           Wife  Black  Female   \n",
      "\n",
      "   capital-gain  capital-loss  hours-per-week native-country salary  \n",
      "0          2174             0              40  United-States  <=50K  \n",
      "1             0             0              13  United-States  <=50K  \n",
      "2             0             0              40  United-States  <=50K  \n",
      "3             0             0              40  United-States  <=50K  \n",
      "4             0             0              40           Cuba  <=50K  \n",
      "<class 'pandas.core.frame.DataFrame'>\n",
      "RangeIndex: 32561 entries, 0 to 32560\n",
      "Data columns (total 15 columns):\n",
      " #   Column          Non-Null Count  Dtype \n",
      "---  ------          --------------  ----- \n",
      " 0   age             32561 non-null  int64 \n",
      " 1   workclass       32561 non-null  object\n",
      " 2   fnlwgt          32561 non-null  int64 \n",
      " 3   education       32561 non-null  object\n",
      " 4   education-num   32561 non-null  int64 \n",
      " 5   marital-status  32561 non-null  object\n",
      " 6   occupation      32561 non-null  object\n",
      " 7   relationship    32561 non-null  object\n",
      " 8   race            32561 non-null  object\n",
      " 9   sex             32561 non-null  object\n",
      " 10  capital-gain    32561 non-null  int64 \n",
      " 11  capital-loss    32561 non-null  int64 \n",
      " 12  hours-per-week  32561 non-null  int64 \n",
      " 13  native-country  32561 non-null  object\n",
      " 14  salary          32561 non-null  object\n",
      "dtypes: int64(6), object(9)\n",
      "memory usage: 3.7+ MB\n",
      "None\n"
     ]
    }
   ],
   "source": [
    "print(data.head())\n",
    "print(data.info())"
   ]
  },
  {
   "cell_type": "code",
   "execution_count": 4,
   "id": "0f1828ef-5f9d-4850-802a-1e88c0b9064b",
   "metadata": {},
   "outputs": [
    {
     "name": "stdout",
     "output_type": "stream",
     "text": [
      "White                 27816\n",
      "Black                  3124\n",
      "Asian-Pac-Islander     1039\n",
      "Amer-Indian-Eskimo      311\n",
      "Other                   271\n",
      "Name: race, dtype: int64\n"
     ]
    }
   ],
   "source": [
    "#1 How many people of each race are represented in this dataset?\n",
    "#  This should be a Pandas series with race names as the index labels. (`race` column)\n",
    "race = pd.value_counts(data_c1['race'])\n",
    "print(race)"
   ]
  },
  {
   "cell_type": "code",
   "execution_count": 7,
   "id": "110a41af-5ede-4b65-ac8b-ef8c7f1d4e59",
   "metadata": {},
   "outputs": [
    {
     "name": "stdout",
     "output_type": "stream",
     "text": [
      "Avg Age of Male =  39\n"
     ]
    }
   ],
   "source": [
    "#2 What is the average age of men?\n",
    "avg_male = data_c1[data_c1['sex']=='Male']\n",
    "avg_male_age = avg_male['age']\n",
    "print(\"Avg Age of Male = \",round(sum(avg_male_age)/avg_male_age.size))"
   ]
  },
  {
   "cell_type": "code",
   "execution_count": 8,
   "id": "56bae784-2e2e-42e1-99b3-eecdbecb52a9",
   "metadata": {},
   "outputs": [
    {
     "name": "stdout",
     "output_type": "stream",
     "text": [
      "16 %\n"
     ]
    }
   ],
   "source": [
    "#3 What is the percentage of people who have a Bachelor's degree?\n",
    "bach = data_c1[data_c1['education']=='Bachelors']\n",
    "print(round(bach.size/data_c1.size*100),\"%\")"
   ]
  },
  {
   "cell_type": "code",
   "execution_count": 9,
   "id": "845b264f-d77f-4b1f-9347-f0640b7c092d",
   "metadata": {},
   "outputs": [
    {
     "name": "stdout",
     "output_type": "stream",
     "text": [
      "46.535843011613935 %\n"
     ]
    }
   ],
   "source": [
    "#4 What percentage of people with advanced education (`Bachelors`, `Masters`, or `Doctorate`) make more than 50K?\n",
    "adv_edu = pd.Series(['Bachelors','Masters','Doctorate'])\n",
    "edu = pd.Series(data_c1['education'].values)\n",
    "edu_bool = pd.array([str(index) in str(adv_edu) for index in edu])\n",
    "data_adv_edu = data_c1[edu_bool]\n",
    "adv_sal = data_adv_edu[data_adv_edu['salary']==\">50K\"]\n",
    "print(adv_sal.size/data_adv_edu.size*100,\"%\")"
   ]
  },
  {
   "cell_type": "code",
   "execution_count": 10,
   "id": "fe16c993-b28b-4cbd-af7e-4f7d9448ed8d",
   "metadata": {},
   "outputs": [
    {
     "name": "stdout",
     "output_type": "stream",
     "text": [
      "17.3713601914639 %\n",
      "CPU times: user 0 ns, sys: 4 µs, total: 4 µs\n",
      "Wall time: 7.15 µs\n"
     ]
    }
   ],
   "source": [
    "#5 What percentage of people without advanced education make more than 50K?\n",
    "adv_edu = pd.Series(['Bachelors','Masters','Doctorate'])\n",
    "edu = pd.Series(data_c1['education'].values)\n",
    "edu_bool = pd.array([str(index) not in str(adv_edu) for index in edu])\n",
    "data_adv_edu = data_c1[edu_bool]\n",
    "adv_sal = data_adv_edu[data_adv_edu['salary']==\">50K\"]\n",
    "print(adv_sal.size/data_adv_edu.size*100,\"%\")"
   ]
  },
  {
   "cell_type": "code",
   "execution_count": 11,
   "id": "b3042071-1c80-4da0-bc2b-4c85f915fdbe",
   "metadata": {},
   "outputs": [
    {
     "name": "stdout",
     "output_type": "stream",
     "text": [
      "1\n"
     ]
    }
   ],
   "source": [
    "#6 What is the minimum number of hours a person works per week?\n",
    "min_work = min(data_c1['hours-per-week'])\n",
    "print(min_work)"
   ]
  },
  {
   "cell_type": "code",
   "execution_count": 12,
   "id": "de3a2bd3-37f5-4c5c-887c-ee1fa7c21ddd",
   "metadata": {},
   "outputs": [
    {
     "name": "stdout",
     "output_type": "stream",
     "text": [
      "24 %\n"
     ]
    }
   ],
   "source": [
    "#7 What percentage of the people who work the minimum number of hours per week have a salary of more than 50K?\n",
    "min_hpw = data_c1[data_c1['hours-per-week'] >= min_work]\n",
    "sal_min = min_hpw[min_hpw['salary']==\">50K\"]\n",
    "print(round(sal_min.size/min_hpw.size*100),\"%\")"
   ]
  },
  {
   "cell_type": "code",
   "execution_count": 13,
   "id": "8eb5f9a8-8a29-4eb4-9dcc-465b4c202e64",
   "metadata": {},
   "outputs": [
    {
     "name": "stdout",
     "output_type": "stream",
     "text": [
      "United-States :  7171\n"
     ]
    }
   ],
   "source": [
    "#8 What country has the highest percentage of people that earn >50K and what is that percentage?\n",
    "sal_50 = data_c1[data_c1['salary']=='>50K']\n",
    "country = sal_50.value_counts(data_c1['native-country'])\n",
    "print(country.index[0],\": \",country[0])\n",
    "#print(country.index[country == max(country)],\" = \", max(country)/sum(country)*100,\"%\")"
   ]
  },
  {
   "cell_type": "code",
   "execution_count": 14,
   "id": "f8229f70-15c7-49ba-9e27-7dbd963a924a",
   "metadata": {},
   "outputs": [
    {
     "name": "stdout",
     "output_type": "stream",
     "text": [
      "Prof-specialty\n"
     ]
    }
   ],
   "source": [
    "#9 Identify the most popular occupation for those who earn >50K in India.\n",
    "ind = data_c1[data_c1['native-country']=='India']\n",
    "ind_sal50k = ind[ind['salary']=='>50K']\n",
    "ind_sal50k_group = ind_sal50k['occupation'].value_counts()\n",
    "print(ind_sal50k_group.index[0])"
   ]
  }
 ],
 "metadata": {
  "kernelspec": {
   "display_name": "Python 3",
   "language": "python",
   "name": "python3"
  },
  "language_info": {
   "codemirror_mode": {
    "name": "ipython",
    "version": 3
   },
   "file_extension": ".py",
   "mimetype": "text/x-python",
   "name": "python",
   "nbconvert_exporter": "python",
   "pygments_lexer": "ipython3",
   "version": "3.8.5"
  }
 },
 "nbformat": 4,
 "nbformat_minor": 5
}
