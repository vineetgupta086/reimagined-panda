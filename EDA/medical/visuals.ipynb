{
 "cells": [
  {
   "cell_type": "code",
   "execution_count": 1,
   "id": "f0785e5b-1396-4e0f-97b0-9263ae21891d",
   "metadata": {},
   "outputs": [],
   "source": [
    "import pandas as pd\n",
    "import matplotlib.pyplot as plt\n",
    "import seaborn as sns\n",
    "import numpy as np"
   ]
  },
  {
   "cell_type": "code",
   "execution_count": 2,
   "id": "297a7bc8-d169-405c-bda1-dfaf8d79e87b",
   "metadata": {},
   "outputs": [
    {
     "name": "stdout",
     "output_type": "stream",
     "text": [
      "<class 'pandas.core.frame.DataFrame'>\n",
      "RangeIndex: 70000 entries, 0 to 69999\n",
      "Data columns (total 13 columns):\n",
      " #   Column       Non-Null Count  Dtype  \n",
      "---  ------       --------------  -----  \n",
      " 0   id           70000 non-null  int64  \n",
      " 1   age          70000 non-null  int64  \n",
      " 2   gender       70000 non-null  int64  \n",
      " 3   height       70000 non-null  int64  \n",
      " 4   weight       70000 non-null  float64\n",
      " 5   ap_hi        70000 non-null  int64  \n",
      " 6   ap_lo        70000 non-null  int64  \n",
      " 7   cholesterol  70000 non-null  int64  \n",
      " 8   gluc         70000 non-null  int64  \n",
      " 9   smoke        70000 non-null  int64  \n",
      " 10  alco         70000 non-null  int64  \n",
      " 11  active       70000 non-null  int64  \n",
      " 12  cardio       70000 non-null  int64  \n",
      "dtypes: float64(1), int64(12)\n",
      "memory usage: 6.9 MB\n",
      "None\n",
      "   id    age  gender  height  weight  ap_hi  ap_lo  cholesterol  gluc  smoke  \\\n",
      "0   0  18393       2     168    62.0    110     80            1     1      0   \n",
      "1   1  20228       1     156    85.0    140     90            3     1      0   \n",
      "2   2  18857       1     165    64.0    130     70            3     1      0   \n",
      "3   3  17623       2     169    82.0    150    100            1     1      0   \n",
      "4   4  17474       1     156    56.0    100     60            1     1      0   \n",
      "\n",
      "   alco  active  cardio  \n",
      "0     0       1       0  \n",
      "1     0       1       1  \n",
      "2     0       0       1  \n",
      "3     0       1       1  \n",
      "4     0       0       0  \n"
     ]
    }
   ],
   "source": [
    "data = pd.read_csv(\"medical.txt\",delimiter = \",\")\n",
    "print(data.info())\n",
    "print(data.head())"
   ]
  },
  {
   "cell_type": "code",
   "execution_count": 3,
   "id": "b88eff0c-9831-44b4-a322-78e949eca9a2",
   "metadata": {},
   "outputs": [],
   "source": [
    "data1 = data.copy()"
   ]
  },
  {
   "cell_type": "code",
   "execution_count": 5,
   "id": "7f272986-ec33-423a-942f-53ae2f832a9c",
   "metadata": {},
   "outputs": [
    {
     "name": "stdout",
     "output_type": "stream",
     "text": [
      "<class 'pandas.core.frame.DataFrame'>\n",
      "RangeIndex: 70000 entries, 0 to 69999\n",
      "Data columns (total 15 columns):\n",
      " #   Column       Non-Null Count  Dtype  \n",
      "---  ------       --------------  -----  \n",
      " 0   id           70000 non-null  int64  \n",
      " 1   age          70000 non-null  int64  \n",
      " 2   gender       70000 non-null  int64  \n",
      " 3   height       70000 non-null  int64  \n",
      " 4   weight       70000 non-null  float64\n",
      " 5   ap_hi        70000 non-null  int64  \n",
      " 6   ap_lo        70000 non-null  int64  \n",
      " 7   cholesterol  70000 non-null  int64  \n",
      " 8   gluc         70000 non-null  int64  \n",
      " 9   smoke        70000 non-null  int64  \n",
      " 10  alco         70000 non-null  int64  \n",
      " 11  active       70000 non-null  int64  \n",
      " 12  cardio       70000 non-null  int64  \n",
      " 13  bmi          70000 non-null  float64\n",
      " 14  overweight   70000 non-null  int64  \n",
      "dtypes: float64(2), int64(13)\n",
      "memory usage: 8.0 MB\n",
      "None\n"
     ]
    }
   ],
   "source": [
    "data1['bmi'] = data1['weight']/((data1['height']/100)**2)\n",
    "data1['overweight'] = 0\n",
    "\n",
    "#data1['overweight'] = data1[1 if data1['bmi']>25 else 0]\n",
    "print(data1.info())\n",
    "\n",
    "for i in data1.index:\n",
    "    if data1['bmi'][i]>25:\n",
    "        data1['overweight'][i] = 1"
   ]
  },
  {
   "cell_type": "code",
   "execution_count": 6,
   "id": "a58e38e6-13b8-457c-85a2-a1edc925f127",
   "metadata": {},
   "outputs": [],
   "source": [
    "to_be_plotted = pd.array(['active','alco','cholesterol','gluc','overweight','smoke'])\n",
    "to_be_norm = pd.array(['cholesterol','gluc'])"
   ]
  },
  {
   "cell_type": "code",
   "execution_count": 7,
   "id": "8e022ad9-8751-45e5-9a95-4ae8e77ce308",
   "metadata": {},
   "outputs": [],
   "source": [
    "#normalization\n",
    "data2 = data1.copy()\n",
    "for i in to_be_norm:\n",
    "    for j in range(data1.shape[0]):\n",
    "        if data1[i][j]==1:\n",
    "            data1[i][j]=0\n",
    "        elif data1[i][j]>1:\n",
    "            data1[i][j]=1"
   ]
  },
  {
   "cell_type": "code",
   "execution_count": null,
   "id": "bc606400-cd1a-42ef-a096-b8b823b92b2a",
   "metadata": {},
   "outputs": [],
   "source": [
    "#sns.catplot(x=\"gluc\",col=\"cardio\",kind=\"count\",data=data1)"
   ]
  },
  {
   "cell_type": "code",
   "execution_count": 19,
   "id": "6870a830-cac9-427b-aff5-e33d7133ff21",
   "metadata": {},
   "outputs": [],
   "source": [
    "#wide to long\n",
    "data3 = data1.melt(id_vars='cardio',value_vars=to_be_plotted,var_name=\"variable\")"
   ]
  },
  {
   "cell_type": "code",
   "execution_count": 20,
   "id": "8e9e1a88-d814-42a7-988a-7418177e3a1f",
   "metadata": {},
   "outputs": [
    {
     "name": "stdout",
     "output_type": "stream",
     "text": [
      "<class 'pandas.core.frame.DataFrame'>\n",
      "RangeIndex: 420000 entries, 0 to 419999\n",
      "Data columns (total 3 columns):\n",
      " #   Column    Non-Null Count   Dtype \n",
      "---  ------    --------------   ----- \n",
      " 0   cardio    420000 non-null  int64 \n",
      " 1   variable  420000 non-null  object\n",
      " 2   value     420000 non-null  int64 \n",
      "dtypes: int64(2), object(1)\n",
      "memory usage: 9.6+ MB\n",
      "None\n",
      "   cardio variable  value\n",
      "0       0   active      1\n",
      "1       1   active      1\n",
      "2       1   active      0\n",
      "3       1   active      1\n",
      "4       0   active      0\n"
     ]
    }
   ],
   "source": [
    "#sns.catplot(data=data3,)\n",
    "print(data3.info())\n",
    "print(data3.head())"
   ]
  },
  {
   "cell_type": "code",
   "execution_count": 26,
   "id": "e81d6c4e-4ed3-44f9-865f-a18edfdb1802",
   "metadata": {},
   "outputs": [
    {
     "data": {
      "text/plain": [
       "<seaborn.axisgrid.FacetGrid at 0x7ffb0bdd9af0>"
      ]
     },
     "execution_count": 26,
     "metadata": {},
     "output_type": "execute_result"
    },
    {
     "data": {
      "image/png": "[encoded data removed]",
      "text/plain": [
       "<Figure size 762.375x360 with 2 Axes>"
      ]
     },
     "metadata": {
      "needs_background": "light"
     },
     "output_type": "display_data"
    }
   ],
   "source": [
    "sns.catplot(data=data3,x='variable',hue='value',col='cardio',kind=\"count\")"
   ]
  },
  {
   "cell_type": "code",
   "execution_count": null,
   "id": "1973a566-7f65-42f0-a9a2-aaeb3be9cdf6",
   "metadata": {},
   "outputs": [],
   "source": []
  }
 ],
 "metadata": {
  "kernelspec": {
   "display_name": "Python 3",
   "language": "python",
   "name": "python3"
  },
  "language_info": {
   "codemirror_mode": {
    "name": "ipython",
    "version": 3
   },
   "file_extension": ".py",
   "mimetype": "text/x-python",
   "name": "python",
   "nbconvert_exporter": "python",
   "pygments_lexer": "ipython3",
   "version": "3.8.5"
  }
 },
 "nbformat": 4,
 "nbformat_minor": 5
}
