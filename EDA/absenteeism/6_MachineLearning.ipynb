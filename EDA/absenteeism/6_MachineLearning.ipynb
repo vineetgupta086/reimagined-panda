{
 "cells": [
  {
   "cell_type": "markdown",
   "metadata": {},
   "source": [
    "# Absenteeism Excercise: Logistic Regression"
   ]
  },
  {
   "cell_type": "code",
   "execution_count": 1,
   "metadata": {},
   "outputs": [],
   "source": [
    "#lecture53\n",
    "import numpy as np #sklearn\n",
    "import pandas as pd #stats"
   ]
  },
  {
   "cell_type": "code",
   "execution_count": 2,
   "metadata": {},
   "outputs": [
    {
     "data": {
      "text/html": [
       "<div>\n",
       "<style scoped>\n",
       "    .dataframe tbody tr th:only-of-type {\n",
       "        vertical-align: middle;\n",
       "    }\n",
       "\n",
       "    .dataframe tbody tr th {\n",
       "        vertical-align: top;\n",
       "    }\n",
       "\n",
       "    .dataframe thead th {\n",
       "        text-align: right;\n",
       "    }\n",
       "</style>\n",
       "<table border=\"1\" class=\"dataframe\">\n",
       "  <thead>\n",
       "    <tr style=\"text-align: right;\">\n",
       "      <th></th>\n",
       "      <th>Date</th>\n",
       "      <th>Transportation Expense</th>\n",
       "      <th>Distance to Work</th>\n",
       "      <th>Age</th>\n",
       "      <th>Daily Work Load Average</th>\n",
       "      <th>Body Mass Index</th>\n",
       "      <th>Education</th>\n",
       "      <th>Children</th>\n",
       "      <th>Pets</th>\n",
       "      <th>Absenteeism Time in Hours</th>\n",
       "      <th>Reason_1</th>\n",
       "      <th>Reason_2</th>\n",
       "      <th>Reason_3</th>\n",
       "      <th>Reason_4</th>\n",
       "      <th>Month Value</th>\n",
       "      <th>Day of the Week</th>\n",
       "    </tr>\n",
       "  </thead>\n",
       "  <tbody>\n",
       "    <tr>\n",
       "      <th>0</th>\n",
       "      <td>2015-07-07</td>\n",
       "      <td>289</td>\n",
       "      <td>36</td>\n",
       "      <td>33</td>\n",
       "      <td>239.554</td>\n",
       "      <td>30</td>\n",
       "      <td>0</td>\n",
       "      <td>2</td>\n",
       "      <td>1</td>\n",
       "      <td>4</td>\n",
       "      <td>0</td>\n",
       "      <td>0</td>\n",
       "      <td>0</td>\n",
       "      <td>1</td>\n",
       "      <td>7</td>\n",
       "      <td>1</td>\n",
       "    </tr>\n",
       "    <tr>\n",
       "      <th>1</th>\n",
       "      <td>2015-07-14</td>\n",
       "      <td>118</td>\n",
       "      <td>13</td>\n",
       "      <td>50</td>\n",
       "      <td>239.554</td>\n",
       "      <td>31</td>\n",
       "      <td>0</td>\n",
       "      <td>1</td>\n",
       "      <td>0</td>\n",
       "      <td>0</td>\n",
       "      <td>0</td>\n",
       "      <td>0</td>\n",
       "      <td>0</td>\n",
       "      <td>0</td>\n",
       "      <td>7</td>\n",
       "      <td>1</td>\n",
       "    </tr>\n",
       "    <tr>\n",
       "      <th>2</th>\n",
       "      <td>2015-07-15</td>\n",
       "      <td>179</td>\n",
       "      <td>51</td>\n",
       "      <td>38</td>\n",
       "      <td>239.554</td>\n",
       "      <td>31</td>\n",
       "      <td>0</td>\n",
       "      <td>0</td>\n",
       "      <td>0</td>\n",
       "      <td>2</td>\n",
       "      <td>0</td>\n",
       "      <td>0</td>\n",
       "      <td>0</td>\n",
       "      <td>1</td>\n",
       "      <td>7</td>\n",
       "      <td>2</td>\n",
       "    </tr>\n",
       "    <tr>\n",
       "      <th>3</th>\n",
       "      <td>2015-07-16</td>\n",
       "      <td>279</td>\n",
       "      <td>5</td>\n",
       "      <td>39</td>\n",
       "      <td>239.554</td>\n",
       "      <td>24</td>\n",
       "      <td>0</td>\n",
       "      <td>2</td>\n",
       "      <td>0</td>\n",
       "      <td>4</td>\n",
       "      <td>1</td>\n",
       "      <td>0</td>\n",
       "      <td>0</td>\n",
       "      <td>0</td>\n",
       "      <td>7</td>\n",
       "      <td>3</td>\n",
       "    </tr>\n",
       "    <tr>\n",
       "      <th>4</th>\n",
       "      <td>2015-07-23</td>\n",
       "      <td>289</td>\n",
       "      <td>36</td>\n",
       "      <td>33</td>\n",
       "      <td>239.554</td>\n",
       "      <td>30</td>\n",
       "      <td>0</td>\n",
       "      <td>2</td>\n",
       "      <td>1</td>\n",
       "      <td>2</td>\n",
       "      <td>0</td>\n",
       "      <td>0</td>\n",
       "      <td>0</td>\n",
       "      <td>1</td>\n",
       "      <td>7</td>\n",
       "      <td>3</td>\n",
       "    </tr>\n",
       "  </tbody>\n",
       "</table>\n",
       "</div>"
      ],
      "text/plain": [
       "         Date  Transportation Expense  Distance to Work  Age  \\\n",
       "0  2015-07-07                     289                36   33   \n",
       "1  2015-07-14                     118                13   50   \n",
       "2  2015-07-15                     179                51   38   \n",
       "3  2015-07-16                     279                 5   39   \n",
       "4  2015-07-23                     289                36   33   \n",
       "\n",
       "   Daily Work Load Average  Body Mass Index  Education  Children  Pets  \\\n",
       "0                  239.554               30          0         2     1   \n",
       "1                  239.554               31          0         1     0   \n",
       "2                  239.554               31          0         0     0   \n",
       "3                  239.554               24          0         2     0   \n",
       "4                  239.554               30          0         2     1   \n",
       "\n",
       "   Absenteeism Time in Hours  Reason_1  Reason_2  Reason_3  Reason_4  \\\n",
       "0                          4         0         0         0         1   \n",
       "1                          0         0         0         0         0   \n",
       "2                          2         0         0         0         1   \n",
       "3                          4         1         0         0         0   \n",
       "4                          2         0         0         0         1   \n",
       "\n",
       "   Month Value  Day of the Week  \n",
       "0            7                1  \n",
       "1            7                1  \n",
       "2            7                2  \n",
       "3            7                3  \n",
       "4            7                3  "
      ]
     },
     "execution_count": 2,
     "metadata": {},
     "output_type": "execute_result"
    }
   ],
   "source": [
    "data_preprocessed = pd.read_csv('Absenteeism_preprocessed.csv')\n",
    "data_preprocessed.head()"
   ]
  },
  {
   "cell_type": "code",
   "execution_count": 3,
   "metadata": {},
   "outputs": [],
   "source": [
    "#lecture54\n",
    "absent_median = data_preprocessed['Absenteeism Time in Hours'].median()\n",
    "targets = np.where(data_preprocessed['Absenteeism Time in Hours'] > absent_median, 1, 0)\n",
    "#print(targets)\n",
    "data_preprocessed['Excessive Absenteeism'] = targets"
   ]
  },
  {
   "cell_type": "code",
   "execution_count": 4,
   "metadata": {},
   "outputs": [
    {
     "name": "stdout",
     "output_type": "stream",
     "text": [
      "(700,)\n"
     ]
    },
    {
     "data": {
      "text/plain": [
       "0.45571428571428574"
      ]
     },
     "execution_count": 4,
     "metadata": {},
     "output_type": "execute_result"
    }
   ],
   "source": [
    "print(targets.shape)\n",
    "targets.sum()/targets.shape[0]"
   ]
  },
  {
   "cell_type": "code",
   "execution_count": 5,
   "metadata": {},
   "outputs": [
    {
     "name": "stdout",
     "output_type": "stream",
     "text": [
      "<class 'pandas.core.frame.DataFrame'>\n",
      "RangeIndex: 700 entries, 0 to 699\n",
      "Data columns (total 15 columns):\n",
      " #   Column                   Non-Null Count  Dtype  \n",
      "---  ------                   --------------  -----  \n",
      " 0   Transportation Expense   700 non-null    int64  \n",
      " 1   Distance to Work         700 non-null    int64  \n",
      " 2   Age                      700 non-null    int64  \n",
      " 3   Daily Work Load Average  700 non-null    float64\n",
      " 4   Body Mass Index          700 non-null    int64  \n",
      " 5   Education                700 non-null    int64  \n",
      " 6   Children                 700 non-null    int64  \n",
      " 7   Pets                     700 non-null    int64  \n",
      " 8   Reason_1                 700 non-null    int64  \n",
      " 9   Reason_2                 700 non-null    int64  \n",
      " 10  Reason_3                 700 non-null    int64  \n",
      " 11  Reason_4                 700 non-null    int64  \n",
      " 12  Month Value              700 non-null    int64  \n",
      " 13  Day of the Week          700 non-null    int64  \n",
      " 14  Excessive Absenteeism    700 non-null    int32  \n",
      "dtypes: float64(1), int32(1), int64(13)\n",
      "memory usage: 79.4 KB\n"
     ]
    }
   ],
   "source": [
    "data_targets = data_preprocessed.drop(['Date','Absenteeism Time in Hours'], axis=1)\n",
    "data_targets.info()"
   ]
  },
  {
   "cell_type": "code",
   "execution_count": 6,
   "metadata": {},
   "outputs": [
    {
     "data": {
      "text/html": [
       "<div>\n",
       "<style scoped>\n",
       "    .dataframe tbody tr th:only-of-type {\n",
       "        vertical-align: middle;\n",
       "    }\n",
       "\n",
       "    .dataframe tbody tr th {\n",
       "        vertical-align: top;\n",
       "    }\n",
       "\n",
       "    .dataframe thead th {\n",
       "        text-align: right;\n",
       "    }\n",
       "</style>\n",
       "<table border=\"1\" class=\"dataframe\">\n",
       "  <thead>\n",
       "    <tr style=\"text-align: right;\">\n",
       "      <th></th>\n",
       "      <th>Transportation Expense</th>\n",
       "      <th>Distance to Work</th>\n",
       "      <th>Age</th>\n",
       "      <th>Daily Work Load Average</th>\n",
       "      <th>Body Mass Index</th>\n",
       "      <th>Education</th>\n",
       "      <th>Children</th>\n",
       "      <th>Pets</th>\n",
       "      <th>Reason_1</th>\n",
       "      <th>Reason_2</th>\n",
       "      <th>Reason_3</th>\n",
       "      <th>Reason_4</th>\n",
       "      <th>Month Value</th>\n",
       "      <th>Day of the Week</th>\n",
       "    </tr>\n",
       "  </thead>\n",
       "  <tbody>\n",
       "    <tr>\n",
       "      <th>0</th>\n",
       "      <td>289</td>\n",
       "      <td>36</td>\n",
       "      <td>33</td>\n",
       "      <td>239.554</td>\n",
       "      <td>30</td>\n",
       "      <td>0</td>\n",
       "      <td>2</td>\n",
       "      <td>1</td>\n",
       "      <td>0</td>\n",
       "      <td>0</td>\n",
       "      <td>0</td>\n",
       "      <td>1</td>\n",
       "      <td>7</td>\n",
       "      <td>1</td>\n",
       "    </tr>\n",
       "    <tr>\n",
       "      <th>1</th>\n",
       "      <td>118</td>\n",
       "      <td>13</td>\n",
       "      <td>50</td>\n",
       "      <td>239.554</td>\n",
       "      <td>31</td>\n",
       "      <td>0</td>\n",
       "      <td>1</td>\n",
       "      <td>0</td>\n",
       "      <td>0</td>\n",
       "      <td>0</td>\n",
       "      <td>0</td>\n",
       "      <td>0</td>\n",
       "      <td>7</td>\n",
       "      <td>1</td>\n",
       "    </tr>\n",
       "    <tr>\n",
       "      <th>2</th>\n",
       "      <td>179</td>\n",
       "      <td>51</td>\n",
       "      <td>38</td>\n",
       "      <td>239.554</td>\n",
       "      <td>31</td>\n",
       "      <td>0</td>\n",
       "      <td>0</td>\n",
       "      <td>0</td>\n",
       "      <td>0</td>\n",
       "      <td>0</td>\n",
       "      <td>0</td>\n",
       "      <td>1</td>\n",
       "      <td>7</td>\n",
       "      <td>2</td>\n",
       "    </tr>\n",
       "    <tr>\n",
       "      <th>3</th>\n",
       "      <td>279</td>\n",
       "      <td>5</td>\n",
       "      <td>39</td>\n",
       "      <td>239.554</td>\n",
       "      <td>24</td>\n",
       "      <td>0</td>\n",
       "      <td>2</td>\n",
       "      <td>0</td>\n",
       "      <td>1</td>\n",
       "      <td>0</td>\n",
       "      <td>0</td>\n",
       "      <td>0</td>\n",
       "      <td>7</td>\n",
       "      <td>3</td>\n",
       "    </tr>\n",
       "    <tr>\n",
       "      <th>4</th>\n",
       "      <td>289</td>\n",
       "      <td>36</td>\n",
       "      <td>33</td>\n",
       "      <td>239.554</td>\n",
       "      <td>30</td>\n",
       "      <td>0</td>\n",
       "      <td>2</td>\n",
       "      <td>1</td>\n",
       "      <td>0</td>\n",
       "      <td>0</td>\n",
       "      <td>0</td>\n",
       "      <td>1</td>\n",
       "      <td>7</td>\n",
       "      <td>3</td>\n",
       "    </tr>\n",
       "    <tr>\n",
       "      <th>5</th>\n",
       "      <td>179</td>\n",
       "      <td>51</td>\n",
       "      <td>38</td>\n",
       "      <td>239.554</td>\n",
       "      <td>31</td>\n",
       "      <td>0</td>\n",
       "      <td>0</td>\n",
       "      <td>0</td>\n",
       "      <td>0</td>\n",
       "      <td>0</td>\n",
       "      <td>0</td>\n",
       "      <td>1</td>\n",
       "      <td>7</td>\n",
       "      <td>4</td>\n",
       "    </tr>\n",
       "    <tr>\n",
       "      <th>6</th>\n",
       "      <td>361</td>\n",
       "      <td>52</td>\n",
       "      <td>28</td>\n",
       "      <td>239.554</td>\n",
       "      <td>27</td>\n",
       "      <td>0</td>\n",
       "      <td>1</td>\n",
       "      <td>4</td>\n",
       "      <td>0</td>\n",
       "      <td>0</td>\n",
       "      <td>0</td>\n",
       "      <td>1</td>\n",
       "      <td>7</td>\n",
       "      <td>4</td>\n",
       "    </tr>\n",
       "    <tr>\n",
       "      <th>7</th>\n",
       "      <td>260</td>\n",
       "      <td>50</td>\n",
       "      <td>36</td>\n",
       "      <td>239.554</td>\n",
       "      <td>23</td>\n",
       "      <td>0</td>\n",
       "      <td>4</td>\n",
       "      <td>0</td>\n",
       "      <td>0</td>\n",
       "      <td>0</td>\n",
       "      <td>0</td>\n",
       "      <td>1</td>\n",
       "      <td>7</td>\n",
       "      <td>4</td>\n",
       "    </tr>\n",
       "    <tr>\n",
       "      <th>8</th>\n",
       "      <td>155</td>\n",
       "      <td>12</td>\n",
       "      <td>34</td>\n",
       "      <td>239.554</td>\n",
       "      <td>25</td>\n",
       "      <td>0</td>\n",
       "      <td>2</td>\n",
       "      <td>0</td>\n",
       "      <td>0</td>\n",
       "      <td>0</td>\n",
       "      <td>1</td>\n",
       "      <td>0</td>\n",
       "      <td>7</td>\n",
       "      <td>0</td>\n",
       "    </tr>\n",
       "    <tr>\n",
       "      <th>9</th>\n",
       "      <td>235</td>\n",
       "      <td>11</td>\n",
       "      <td>37</td>\n",
       "      <td>239.554</td>\n",
       "      <td>29</td>\n",
       "      <td>1</td>\n",
       "      <td>1</td>\n",
       "      <td>1</td>\n",
       "      <td>0</td>\n",
       "      <td>0</td>\n",
       "      <td>0</td>\n",
       "      <td>1</td>\n",
       "      <td>7</td>\n",
       "      <td>0</td>\n",
       "    </tr>\n",
       "  </tbody>\n",
       "</table>\n",
       "</div>"
      ],
      "text/plain": [
       "   Transportation Expense  Distance to Work  Age  Daily Work Load Average  \\\n",
       "0                     289                36   33                  239.554   \n",
       "1                     118                13   50                  239.554   \n",
       "2                     179                51   38                  239.554   \n",
       "3                     279                 5   39                  239.554   \n",
       "4                     289                36   33                  239.554   \n",
       "5                     179                51   38                  239.554   \n",
       "6                     361                52   28                  239.554   \n",
       "7                     260                50   36                  239.554   \n",
       "8                     155                12   34                  239.554   \n",
       "9                     235                11   37                  239.554   \n",
       "\n",
       "   Body Mass Index  Education  Children  Pets  Reason_1  Reason_2  Reason_3  \\\n",
       "0               30          0         2     1         0         0         0   \n",
       "1               31          0         1     0         0         0         0   \n",
       "2               31          0         0     0         0         0         0   \n",
       "3               24          0         2     0         1         0         0   \n",
       "4               30          0         2     1         0         0         0   \n",
       "5               31          0         0     0         0         0         0   \n",
       "6               27          0         1     4         0         0         0   \n",
       "7               23          0         4     0         0         0         0   \n",
       "8               25          0         2     0         0         0         1   \n",
       "9               29          1         1     1         0         0         0   \n",
       "\n",
       "   Reason_4  Month Value  Day of the Week  \n",
       "0         1            7                1  \n",
       "1         0            7                1  \n",
       "2         1            7                2  \n",
       "3         0            7                3  \n",
       "4         1            7                3  \n",
       "5         1            7                4  \n",
       "6         1            7                4  \n",
       "7         1            7                4  \n",
       "8         0            7                0  \n",
       "9         1            7                0  "
      ]
     },
     "execution_count": 6,
     "metadata": {},
     "output_type": "execute_result"
    }
   ],
   "source": [
    "#lecture55: selecting inputs\n",
    "data_targets.iloc[:,0:14].head(10)"
   ]
  },
  {
   "cell_type": "code",
   "execution_count": 7,
   "metadata": {
    "scrolled": true
   },
   "outputs": [
    {
     "name": "stdout",
     "output_type": "stream",
     "text": [
      "<class 'pandas.core.frame.DataFrame'>\n",
      "RangeIndex: 700 entries, 0 to 699\n",
      "Data columns (total 14 columns):\n",
      " #   Column                   Non-Null Count  Dtype  \n",
      "---  ------                   --------------  -----  \n",
      " 0   Transportation Expense   700 non-null    int64  \n",
      " 1   Distance to Work         700 non-null    int64  \n",
      " 2   Age                      700 non-null    int64  \n",
      " 3   Daily Work Load Average  700 non-null    float64\n",
      " 4   Body Mass Index          700 non-null    int64  \n",
      " 5   Education                700 non-null    int64  \n",
      " 6   Children                 700 non-null    int64  \n",
      " 7   Pets                     700 non-null    int64  \n",
      " 8   Reason_1                 700 non-null    int64  \n",
      " 9   Reason_2                 700 non-null    int64  \n",
      " 10  Reason_3                 700 non-null    int64  \n",
      " 11  Reason_4                 700 non-null    int64  \n",
      " 12  Month Value              700 non-null    int64  \n",
      " 13  Day of the Week          700 non-null    int64  \n",
      "dtypes: float64(1), int64(13)\n",
      "memory usage: 76.7 KB\n"
     ]
    }
   ],
   "source": [
    "#same thing but efficient\n",
    "unscaled_data = data_targets.iloc[:,:-1]\n",
    "unscaled_data.info()"
   ]
  },
  {
   "cell_type": "markdown",
   "metadata": {},
   "source": [
    "### Standardize the data"
   ]
  },
  {
   "cell_type": "code",
   "execution_count": 8,
   "metadata": {},
   "outputs": [],
   "source": [
    "#Standarize the data\n",
    "#lecture56: statistical preprocessing\n",
    "from sklearn.preprocessing import StandardScaler\n",
    "#lecture61: correction\n",
    "#absenteeism_scalar = StandardScaler() #standardized using z-score method"
   ]
  },
  {
   "cell_type": "code",
   "execution_count": 9,
   "metadata": {},
   "outputs": [],
   "source": [
    "#lecture61:\n",
    "from sklearn.base import BaseEstimator, TransformerMixin\n",
    "from sklearn.preprocessing import StandardScaler\n",
    "\n",
    "class CustomScaler(BaseEstimator, TransformerMixin):\n",
    "\n",
    "    def __init__(self, columns, copy=True, with_mean=True, with_std=True):\n",
    "        self.scaler = StandardScaler(copy, with_mean, with_std)\n",
    "        self.columns = columns\n",
    "        self.mean_ = None\n",
    "        self.var_ = None\n",
    "        \n",
    "    def fit(self, X, y = None):\n",
    "        self.scaler.fit(X[self.columns], y)\n",
    "        self.mean_ = np.mean(X=[self.columns])\n",
    "        self.var_ = np.var(X[self.columns])\n",
    "        return self\n",
    "    \n",
    "    def transform(self, X, y = None, copy = None):\n",
    "        init_col_order = X.columns\n",
    "        X_scaled = pd.DataFrame(self.scaler.transform(X[self.columns]), columns = self.columns)\n",
    "        X_not_scaled = X.loc[:,~X.columns.isin(self.columns)]\n",
    "        return pd.concat([X_not_scaled,X_scaled], axis = 1)[init_col_order]"
   ]
  },
  {
   "cell_type": "code",
   "execution_count": 10,
   "metadata": {
    "scrolled": true
   },
   "outputs": [
    {
     "data": {
      "text/plain": [
       "array(['Transportation Expense', 'Distance to Work', 'Age',\n",
       "       'Daily Work Load Average', 'Body Mass Index', 'Education',\n",
       "       'Children', 'Pets', 'Reason_1', 'Reason_2', 'Reason_3', 'Reason_4',\n",
       "       'Month Value', 'Day of the Week'], dtype=object)"
      ]
     },
     "execution_count": 10,
     "metadata": {},
     "output_type": "execute_result"
    }
   ],
   "source": [
    "unscaled_data.columns.values"
   ]
  },
  {
   "cell_type": "code",
   "execution_count": 11,
   "metadata": {},
   "outputs": [],
   "source": [
    "columns_to_omit = ['Reason_1','Reason_2','Reason_3','Reason_4','Education']\n",
    "columns_to_scale = [x for x in unscaled_data.columns.values if x not in columns_to_omit]"
   ]
  },
  {
   "cell_type": "code",
   "execution_count": 12,
   "metadata": {},
   "outputs": [
    {
     "name": "stderr",
     "output_type": "stream",
     "text": [
      "C:\\Users\\gupta\\anaconda3\\lib\\site-packages\\sklearn\\utils\\validation.py:67: FutureWarning: Pass copy=['Transportation Expense', 'Distance to Work', 'Age', 'Daily Work Load Average', 'Body Mass Index', 'Children', 'Pets', 'Month Value', 'Day of the Week'] as keyword args. From version 0.25 passing these as positional arguments will result in an error\n",
      "  warnings.warn(\"Pass {} as keyword args. From version 0.25 \"\n"
     ]
    }
   ],
   "source": [
    "absenteeism_scaler = StandardScaler(columns_to_scale)"
   ]
  },
  {
   "cell_type": "code",
   "execution_count": 13,
   "metadata": {},
   "outputs": [
    {
     "data": {
      "text/plain": [
       "StandardScaler(copy=['Transportation Expense', 'Distance to Work', 'Age',\n",
       "                     'Daily Work Load Average', 'Body Mass Index', 'Children',\n",
       "                     'Pets', 'Month Value', 'Day of the Week'])"
      ]
     },
     "execution_count": 13,
     "metadata": {},
     "output_type": "execute_result"
    }
   ],
   "source": [
    "absenteeism_scaler.fit(unscaled_data)"
   ]
  },
  {
   "cell_type": "code",
   "execution_count": 14,
   "metadata": {},
   "outputs": [],
   "source": [
    "scaled_data = absenteeism_scaler.transform(unscaled_data)"
   ]
  },
  {
   "cell_type": "code",
   "execution_count": 15,
   "metadata": {
    "scrolled": true
   },
   "outputs": [
    {
     "data": {
      "text/plain": [
       "array([[ 1.00584437,  0.41281584, -0.53606239, ...,  0.82136542,\n",
       "         0.18272635, -0.68370352],\n",
       "       [-1.57468098, -1.1418824 ,  2.13080317, ..., -1.21748491,\n",
       "         0.18272635, -0.68370352],\n",
       "       [-0.6541427 ,  1.42674947,  0.24830984, ...,  0.82136542,\n",
       "         0.18272635, -0.00772546],\n",
       "       ...,\n",
       "       [ 1.62456682, -0.93909568, -1.32043461, ..., -1.21748491,\n",
       "        -0.3882935 ,  0.66825259],\n",
       "       [ 0.19094163, -0.93909568, -0.69293683, ...,  0.82136542,\n",
       "        -0.3882935 ,  0.66825259],\n",
       "       [ 1.03602595,  0.07483796,  0.56205873, ...,  0.82136542,\n",
       "        -0.3882935 ,  0.66825259]])"
      ]
     },
     "execution_count": 15,
     "metadata": {},
     "output_type": "execute_result"
    }
   ],
   "source": [
    "scaled_data"
   ]
  },
  {
   "cell_type": "code",
   "execution_count": 16,
   "metadata": {},
   "outputs": [],
   "source": [
    "#lecture57: train test split\n",
    "from sklearn.model_selection import train_test_split\n",
    "#random state works like set.seed"
   ]
  },
  {
   "cell_type": "code",
   "execution_count": 17,
   "metadata": {},
   "outputs": [
    {
     "data": {
      "text/plain": [
       "[array([[-0.6541427 , -0.26313992, -1.00668572, ..., -1.21748491,\n",
       "         -1.24482327,  0.66825259],\n",
       "        [-1.57468098, -1.1418824 ,  2.13080317, ..., -1.21748491,\n",
       "         -0.95931334, -0.68370352],\n",
       "        [-1.57468098, -1.34466913,  0.09143539, ...,  0.82136542,\n",
       "         -1.53033319,  0.66825259],\n",
       "        ...,\n",
       "        [-1.01632169, -1.20947798, -0.37918794, ..., -1.21748491,\n",
       "          1.61027597, -0.68370352],\n",
       "        [-1.57468098, -1.1418824 ,  2.13080317, ..., -1.21748491,\n",
       "         -0.10278357, -0.00772546],\n",
       "        [-1.57468098, -1.34466913,  0.09143539, ..., -1.21748491,\n",
       "         -0.67380342, -0.00772546]]),\n",
       " array([[-0.6541427 ,  1.42674947,  0.24830984, ...,  0.82136542,\n",
       "         -1.53033319,  1.34423065],\n",
       "        [-0.57868874,  0.81838929, -1.47730906, ...,  0.82136542,\n",
       "          0.7537462 , -0.68370352],\n",
       "        [ 0.19094163, -0.66871337,  1.03268206, ...,  0.82136542,\n",
       "          0.18272635, -1.35968157],\n",
       "        ...,\n",
       "        [ 0.04003371, -0.26313992, -1.32043461, ..., -1.21748491,\n",
       "          1.03925612, -0.68370352],\n",
       "        [-1.01632169, -1.20947798, -0.37918794, ...,  0.82136542,\n",
       "         -0.67380342, -0.68370352],\n",
       "        [-1.57468098, -1.34466913,  0.09143539, ...,  0.82136542,\n",
       "          1.03925612, -0.68370352]]),\n",
       " array([0, 0, 0, 1, 1, 1, 1, 1, 1, 0, 1, 0, 0, 1, 0, 0, 0, 1, 1, 0, 0, 0,\n",
       "        1, 0, 1, 1, 1, 1, 1, 0, 0, 0, 1, 0, 1, 0, 1, 1, 0, 0, 1, 0, 1, 0,\n",
       "        0, 1, 0, 1, 0, 0, 0, 0, 0, 1, 1, 0, 0, 0, 0, 0, 0, 0, 1, 0, 0, 1,\n",
       "        1, 0, 1, 1, 1, 1, 0, 0, 0, 0, 1, 0, 0, 0, 0, 0, 1, 0, 1, 0, 1, 1,\n",
       "        1, 1, 0, 1, 1, 0, 1, 1, 1, 0, 1, 1, 0, 0, 1, 0, 0, 1, 1, 0, 1, 1,\n",
       "        0, 0, 0, 1, 1, 0, 0, 1, 0, 0, 0, 1, 1, 0, 1, 1, 1, 0, 1, 0, 0, 0,\n",
       "        0, 1, 0, 0, 0, 0, 0, 0, 1, 0, 0, 0, 1, 1, 1, 0, 1, 0, 0, 1, 0, 1,\n",
       "        0, 0, 0, 0, 0, 1, 1, 0, 1, 0, 1, 0, 1, 1, 1, 0, 1, 1, 1, 1, 0, 0,\n",
       "        0, 1, 1, 1, 0, 1, 0, 0, 0, 1, 0, 1, 0, 0, 0, 0, 1, 0, 0, 0, 0, 0,\n",
       "        1, 1, 0, 0, 0, 0, 1, 1, 0, 1, 1, 0, 0, 1, 1, 0, 1, 0, 0, 1, 0, 0,\n",
       "        1, 1, 1, 0, 1, 1, 1, 0, 1, 0, 1, 1, 0, 0, 1, 0, 0, 1, 0, 0, 0, 1,\n",
       "        0, 1, 0, 0, 0, 0, 1, 0, 0, 1, 0, 0, 1, 1, 0, 1, 0, 1, 0, 1, 1, 1,\n",
       "        0, 1, 0, 0, 0, 1, 0, 0, 1, 0, 0, 0, 1, 0, 0, 1, 0, 1, 1, 0, 0, 1,\n",
       "        1, 0, 0, 0, 0, 0, 1, 0, 0, 0, 0, 0, 0, 0, 0, 1, 0, 0, 0, 0, 1, 0,\n",
       "        0, 1, 1, 1, 1, 1, 0, 1, 0, 1, 0, 1, 1, 1, 0, 1, 0, 0, 0, 0, 0, 1,\n",
       "        0, 0, 1, 0, 0, 0, 1, 1, 1, 0, 0, 0, 0, 0, 0, 1, 1, 1, 0, 0, 1, 1,\n",
       "        0, 1, 0, 0, 1, 1, 0, 1, 1, 1, 0, 0, 1, 0, 1, 0, 0, 0, 0, 0, 0, 1,\n",
       "        0, 0, 0, 0, 1, 1, 1, 1, 1, 1, 0, 0, 1, 1, 1, 1, 1, 0, 0, 1, 0, 0,\n",
       "        1, 0, 0, 0, 0, 1, 1, 1, 1, 0, 1, 1, 1, 1, 0, 1, 0, 0, 0, 1, 0, 0,\n",
       "        0, 0, 1, 1, 0, 0, 1, 1, 1, 0, 0, 1, 1, 1, 0, 0, 1, 1, 0, 0, 0, 1,\n",
       "        0, 0, 0, 1, 0, 0, 0, 0, 1, 0, 1, 1, 0, 1, 0, 1, 1, 1, 0, 1, 0, 0,\n",
       "        0, 0, 1, 0, 1, 0, 0, 1, 1, 0, 0, 0, 0, 0, 0, 1, 0, 1, 1, 1, 0, 1,\n",
       "        1, 1, 1, 0, 0, 1, 1, 0, 1, 1, 1, 0, 0, 1, 0, 1, 0, 1, 1, 1, 0, 0,\n",
       "        0, 1, 0, 0, 1, 1, 0, 0, 0, 1, 1, 0, 0, 0, 0, 0, 1, 1, 0]),\n",
       " array([0, 0, 1, 0, 0, 1, 1, 0, 0, 0, 0, 0, 0, 1, 1, 0, 1, 0, 1, 1, 0, 0,\n",
       "        0, 1, 0, 1, 1, 0, 1, 0, 1, 1, 1, 0, 1, 1, 0, 1, 0, 1, 0, 0, 1, 0,\n",
       "        1, 0, 1, 1, 1, 1, 0, 1, 1, 0, 0, 0, 0, 0, 1, 0, 0, 0, 0, 0, 1, 0,\n",
       "        0, 0, 1, 1, 0, 1, 0, 1, 1, 0, 1, 1, 0, 0, 1, 0, 1, 0, 0, 1, 1, 1,\n",
       "        0, 1, 1, 0, 0, 1, 1, 1, 1, 1, 0, 1, 1, 1, 0, 1, 0, 0, 1, 0, 1, 0,\n",
       "        0, 1, 0, 0, 1, 0, 0, 1, 1, 1, 0, 1, 1, 0, 0, 1, 0, 1, 0, 1, 0, 0,\n",
       "        0, 0, 0, 0, 1, 1, 0, 1, 1, 0, 1, 1, 0, 1, 1, 0, 1, 1, 1, 0, 1, 0,\n",
       "        0, 1, 0, 0, 0, 1, 1, 1, 1, 0, 0, 1, 1, 0, 0, 1, 1, 0, 0, 1, 0])]"
      ]
     },
     "execution_count": 17,
     "metadata": {},
     "output_type": "execute_result"
    }
   ],
   "source": [
    "train_test_split(scaled_data,targets)"
   ]
  },
  {
   "cell_type": "code",
   "execution_count": 18,
   "metadata": {},
   "outputs": [
    {
     "name": "stdout",
     "output_type": "stream",
     "text": [
      "(560, 14) (560,)\n",
      "(140, 14) (140,)\n"
     ]
    }
   ],
   "source": [
    "x_train, x_test, y_train, y_test = train_test_split(scaled_data, targets, train_size = 0.8, shuffle=True, random_state = 20)\n",
    "#80% of data is used for training\n",
    "print(x_train.shape, y_train.shape)\n",
    "print(x_test.shape, y_test.shape)"
   ]
  },
  {
   "cell_type": "code",
   "execution_count": 19,
   "metadata": {},
   "outputs": [],
   "source": [
    "#lecture58\n",
    "from sklearn.linear_model import LogisticRegression\n",
    "from sklearn import metrics"
   ]
  },
  {
   "cell_type": "code",
   "execution_count": 20,
   "metadata": {},
   "outputs": [],
   "source": [
    "#training model\n",
    "reg = LogisticRegression()"
   ]
  },
  {
   "cell_type": "code",
   "execution_count": 21,
   "metadata": {},
   "outputs": [
    {
     "data": {
      "text/plain": [
       "LogisticRegression()"
      ]
     },
     "execution_count": 21,
     "metadata": {},
     "output_type": "execute_result"
    }
   ],
   "source": [
    "reg.fit(x_train,y_train)"
   ]
  },
  {
   "cell_type": "code",
   "execution_count": 22,
   "metadata": {},
   "outputs": [
    {
     "data": {
      "text/plain": [
       "0.7839285714285714"
      ]
     },
     "execution_count": 22,
     "metadata": {},
     "output_type": "execute_result"
    }
   ],
   "source": [
    "#accuracy\n",
    "reg.score(x_train,y_train)"
   ]
  },
  {
   "cell_type": "code",
   "execution_count": 23,
   "metadata": {},
   "outputs": [],
   "source": [
    "#manually check the accuracy\n",
    "model_outputs = reg.predict(x_train)"
   ]
  },
  {
   "cell_type": "code",
   "execution_count": 24,
   "metadata": {},
   "outputs": [
    {
     "data": {
      "text/plain": [
       "array([0, 1, 1, 1, 1, 0, 0, 1, 0, 1, 1, 1, 0, 1, 0, 0, 0, 0, 0, 1, 1, 0,\n",
       "       0, 0, 0, 0, 0, 1, 1, 0, 0, 1, 0, 1, 0, 0, 1, 0, 0, 0, 1, 0, 1, 1,\n",
       "       1, 0, 0, 0, 1, 1, 0, 1, 0, 0, 0, 1, 1, 0, 0, 0, 0, 0, 1, 0, 0, 0,\n",
       "       0, 1, 0, 0, 0, 1, 1, 0, 0, 0, 1, 0, 0, 1, 1, 1, 0, 0, 0, 1, 1, 0,\n",
       "       0, 1, 0, 0, 1, 0, 0, 0, 0, 1, 0, 1, 1, 1, 1, 0, 1, 1, 0, 0, 1, 0,\n",
       "       0, 1, 0, 1, 1, 0, 0, 1, 1, 1, 1, 1, 1, 0, 0, 1, 0, 1, 0, 0, 1, 0,\n",
       "       0, 0, 0, 0, 1, 0, 0, 0, 0, 0, 1, 1, 1, 0, 0, 1, 0, 1, 0, 0, 1, 1,\n",
       "       1, 1, 0, 1, 0, 1, 1, 0, 1, 0, 0, 1, 1, 0, 1, 1, 0, 0, 0, 0, 1, 0,\n",
       "       0, 0, 0, 0, 1, 0, 0, 1, 1, 0, 0, 1, 0, 0, 1, 1, 1, 0, 0, 0, 0, 1,\n",
       "       1, 0, 0, 1, 1, 1, 1, 0, 1, 0, 0, 0, 1, 1, 1, 0, 0, 0, 0, 0, 0, 1,\n",
       "       1, 0, 0, 0, 1, 0, 0, 1, 1, 0, 0, 1, 1, 0, 0, 1, 1, 0, 0, 1, 0, 1,\n",
       "       0, 0, 1, 0, 1, 1, 1, 0, 1, 0, 1, 0, 1, 0, 1, 1, 1, 1, 1, 1, 1, 1,\n",
       "       0, 0, 1, 0, 0, 0, 1, 1, 0, 0, 1, 0, 1, 0, 0, 1, 0, 0, 1, 0, 1, 0,\n",
       "       0, 0, 1, 0, 0, 0, 0, 1, 1, 1, 1, 1, 1, 1, 0, 0, 0, 0, 0, 1, 0, 0,\n",
       "       1, 0, 0, 0, 1, 0, 1, 0, 1, 1, 0, 0, 0, 0, 1, 1, 0, 1, 0, 0, 1, 1,\n",
       "       1, 0, 1, 0, 0, 1, 1, 0, 0, 0, 0, 0, 0, 0, 0, 1, 1, 1, 0, 0, 0, 1,\n",
       "       0, 0, 1, 0, 1, 1, 0, 0, 1, 0, 1, 1, 1, 0, 0, 0, 0, 1, 1, 1, 0, 0,\n",
       "       1, 1, 1, 1, 0, 0, 1, 1, 0, 1, 0, 1, 1, 1, 0, 1, 0, 1, 1, 0, 0, 0,\n",
       "       0, 0, 0, 0, 0, 1, 1, 0, 1, 1, 1, 1, 0, 0, 0, 1, 1, 0, 1, 1, 1, 0,\n",
       "       0, 0, 0, 1, 0, 0, 1, 0, 0, 1, 0, 0, 1, 0, 1, 1, 1, 0, 0, 1, 1, 0,\n",
       "       0, 0, 0, 1, 0, 0, 0, 0, 1, 1, 1, 1, 1, 0, 1, 1, 0, 0, 0, 0, 0, 0,\n",
       "       1, 1, 0, 0, 0, 0, 1, 0, 0, 0, 1, 0, 1, 1, 0, 0, 1, 0, 0, 1, 0, 0,\n",
       "       0, 1, 0, 0, 0, 1, 0, 0, 1, 0, 0, 0, 0, 1, 0, 0, 1, 0, 1, 0, 0, 0,\n",
       "       0, 1, 1, 1, 1, 0, 0, 0, 1, 1, 1, 1, 0, 0, 1, 1, 0, 0, 1, 0, 1, 1,\n",
       "       0, 1, 1, 0, 1, 1, 1, 0, 0, 0, 1, 1, 1, 0, 1, 1, 0, 1, 1, 0, 0, 0,\n",
       "       0, 1, 0, 1, 1, 1, 0, 0, 0, 0])"
      ]
     },
     "execution_count": 24,
     "metadata": {},
     "output_type": "execute_result"
    }
   ],
   "source": [
    "model_outputs"
   ]
  },
  {
   "cell_type": "code",
   "execution_count": 25,
   "metadata": {},
   "outputs": [
    {
     "data": {
      "text/plain": [
       "array([0, 1, 1, 1, 1, 0, 0, 1, 0, 1, 0, 1, 1, 0, 0, 0, 0, 0, 1, 1, 0, 0,\n",
       "       1, 1, 0, 0, 0, 0, 1, 0, 0, 1, 0, 1, 0, 0, 0, 1, 1, 1, 1, 0, 1, 1,\n",
       "       1, 0, 0, 0, 1, 1, 1, 1, 0, 0, 0, 1, 1, 0, 0, 1, 0, 0, 1, 0, 0, 0,\n",
       "       0, 0, 0, 1, 0, 1, 1, 0, 0, 1, 1, 0, 0, 1, 1, 0, 0, 1, 0, 1, 0, 1,\n",
       "       1, 1, 0, 0, 1, 0, 0, 0, 0, 0, 0, 1, 1, 1, 1, 0, 1, 1, 0, 0, 1, 0,\n",
       "       0, 1, 1, 1, 1, 0, 0, 1, 1, 1, 1, 1, 0, 0, 0, 1, 0, 1, 0, 0, 1, 1,\n",
       "       0, 0, 0, 0, 0, 0, 0, 0, 0, 0, 1, 0, 1, 1, 0, 0, 0, 1, 0, 0, 0, 1,\n",
       "       0, 1, 0, 0, 0, 1, 1, 0, 1, 1, 0, 0, 1, 1, 1, 0, 0, 0, 0, 0, 1, 0,\n",
       "       0, 0, 0, 0, 1, 0, 0, 1, 1, 1, 0, 1, 0, 0, 0, 1, 1, 0, 0, 0, 0, 1,\n",
       "       1, 0, 0, 1, 1, 1, 0, 0, 0, 1, 0, 0, 1, 1, 1, 0, 0, 1, 0, 1, 0, 0,\n",
       "       1, 0, 0, 0, 0, 0, 1, 0, 1, 0, 0, 1, 1, 1, 1, 0, 1, 1, 0, 0, 0, 0,\n",
       "       0, 0, 1, 0, 1, 1, 1, 1, 1, 0, 1, 0, 1, 0, 1, 1, 1, 1, 1, 1, 0, 0,\n",
       "       0, 0, 0, 0, 0, 0, 0, 1, 0, 0, 1, 0, 1, 0, 1, 0, 0, 0, 1, 0, 0, 0,\n",
       "       1, 0, 1, 0, 0, 0, 0, 1, 0, 1, 0, 0, 1, 1, 0, 0, 0, 1, 0, 1, 0, 0,\n",
       "       0, 1, 0, 1, 1, 0, 1, 0, 1, 1, 0, 0, 1, 0, 1, 0, 0, 1, 0, 0, 1, 1,\n",
       "       1, 0, 0, 0, 0, 1, 1, 1, 0, 0, 0, 1, 0, 1, 0, 1, 1, 1, 0, 0, 0, 1,\n",
       "       0, 0, 1, 0, 1, 1, 0, 0, 0, 0, 1, 0, 1, 1, 0, 0, 0, 1, 1, 1, 0, 0,\n",
       "       1, 1, 1, 1, 0, 0, 1, 0, 0, 1, 0, 0, 1, 1, 1, 1, 1, 1, 1, 0, 1, 0,\n",
       "       0, 0, 0, 0, 0, 0, 1, 0, 1, 1, 0, 1, 0, 0, 0, 1, 1, 0, 0, 1, 1, 1,\n",
       "       0, 1, 0, 1, 0, 0, 1, 0, 1, 1, 0, 1, 1, 1, 1, 1, 1, 0, 0, 0, 0, 0,\n",
       "       0, 0, 0, 1, 0, 0, 0, 0, 0, 1, 0, 1, 1, 0, 0, 0, 0, 0, 0, 0, 1, 0,\n",
       "       1, 1, 0, 0, 0, 0, 1, 0, 1, 0, 1, 1, 0, 1, 0, 1, 1, 0, 0, 1, 0, 0,\n",
       "       1, 1, 0, 0, 1, 1, 0, 0, 1, 1, 0, 0, 0, 1, 0, 1, 1, 0, 1, 0, 0, 1,\n",
       "       0, 1, 0, 0, 1, 0, 0, 1, 1, 1, 1, 1, 0, 1, 1, 1, 1, 1, 0, 0, 1, 0,\n",
       "       0, 1, 1, 1, 1, 1, 1, 0, 0, 0, 1, 1, 1, 1, 1, 1, 0, 1, 1, 0, 0, 0,\n",
       "       0, 0, 0, 1, 1, 1, 1, 0, 1, 0])"
      ]
     },
     "execution_count": 25,
     "metadata": {},
     "output_type": "execute_result"
    }
   ],
   "source": [
    "y_train"
   ]
  },
  {
   "cell_type": "code",
   "execution_count": 26,
   "metadata": {},
   "outputs": [
    {
     "data": {
      "text/plain": [
       "array([ True,  True,  True,  True,  True,  True,  True,  True,  True,\n",
       "        True, False,  True, False, False,  True,  True,  True,  True,\n",
       "       False,  True, False,  True, False, False,  True,  True,  True,\n",
       "       False,  True,  True,  True,  True,  True,  True,  True,  True,\n",
       "       False, False, False, False,  True,  True,  True,  True,  True,\n",
       "        True,  True,  True,  True,  True, False,  True,  True,  True,\n",
       "        True,  True,  True,  True,  True, False,  True,  True,  True,\n",
       "        True,  True,  True,  True, False,  True, False,  True,  True,\n",
       "        True,  True,  True, False,  True,  True,  True,  True,  True,\n",
       "       False,  True, False,  True,  True, False, False, False,  True,\n",
       "        True,  True,  True,  True,  True,  True,  True, False,  True,\n",
       "        True,  True,  True,  True,  True,  True,  True,  True,  True,\n",
       "        True,  True,  True,  True, False,  True,  True,  True,  True,\n",
       "        True,  True,  True,  True,  True, False,  True,  True,  True,\n",
       "        True,  True,  True,  True,  True, False,  True,  True,  True,\n",
       "        True, False,  True,  True,  True,  True,  True,  True, False,\n",
       "        True, False,  True, False,  True,  True,  True,  True, False,\n",
       "        True, False,  True,  True, False,  True,  True,  True,  True,\n",
       "        True, False,  True, False,  True, False,  True, False,  True,\n",
       "        True,  True,  True,  True,  True,  True,  True,  True,  True,\n",
       "        True,  True,  True,  True,  True, False,  True,  True,  True,\n",
       "        True, False,  True,  True,  True,  True,  True,  True,  True,\n",
       "        True,  True,  True,  True,  True,  True, False,  True, False,\n",
       "       False,  True,  True,  True,  True,  True,  True,  True, False,\n",
       "        True, False,  True, False,  True,  True,  True,  True, False,\n",
       "        True, False, False,  True,  True,  True,  True,  True, False,\n",
       "       False, False,  True, False,  True, False,  True, False,  True,\n",
       "        True,  True,  True,  True,  True,  True, False,  True,  True,\n",
       "        True,  True,  True,  True,  True,  True,  True,  True,  True,\n",
       "        True, False, False,  True,  True, False,  True,  True,  True,\n",
       "       False,  True,  True,  True,  True,  True,  True,  True, False,\n",
       "       False,  True,  True,  True,  True, False,  True, False,  True,\n",
       "        True,  True,  True,  True,  True,  True, False,  True, False,\n",
       "       False,  True,  True,  True,  True,  True, False,  True,  True,\n",
       "        True,  True, False, False,  True, False,  True,  True,  True,\n",
       "        True,  True,  True,  True,  True, False,  True,  True, False,\n",
       "        True,  True,  True,  True,  True,  True,  True,  True, False,\n",
       "        True,  True,  True,  True, False,  True,  True,  True, False,\n",
       "        True, False,  True,  True,  True,  True,  True,  True,  True,\n",
       "        True,  True,  True,  True,  True,  True,  True,  True,  True,\n",
       "       False,  True,  True, False,  True, False,  True,  True,  True,\n",
       "        True,  True,  True,  True,  True,  True,  True,  True,  True,\n",
       "        True,  True,  True, False,  True,  True,  True, False,  True,\n",
       "        True, False,  True, False,  True,  True,  True, False,  True,\n",
       "        True,  True,  True,  True,  True, False,  True,  True,  True,\n",
       "        True, False,  True,  True,  True,  True,  True,  True,  True,\n",
       "       False,  True,  True, False,  True, False,  True,  True,  True,\n",
       "        True,  True,  True, False,  True,  True, False,  True, False,\n",
       "        True,  True,  True,  True,  True, False, False,  True,  True,\n",
       "        True,  True,  True,  True,  True,  True,  True, False,  True,\n",
       "       False,  True,  True,  True, False, False,  True,  True,  True,\n",
       "        True, False,  True,  True,  True,  True,  True,  True,  True,\n",
       "        True,  True, False,  True,  True, False, False,  True,  True,\n",
       "       False,  True,  True,  True,  True,  True,  True, False,  True,\n",
       "        True,  True, False,  True,  True,  True,  True, False,  True,\n",
       "        True,  True,  True,  True, False,  True,  True,  True,  True,\n",
       "        True, False,  True,  True, False, False,  True,  True,  True,\n",
       "       False,  True,  True,  True,  True,  True, False,  True,  True,\n",
       "       False, False, False,  True,  True, False,  True,  True,  True,\n",
       "       False,  True,  True,  True,  True,  True,  True,  True,  True,\n",
       "        True, False,  True,  True,  True,  True,  True,  True,  True,\n",
       "        True,  True, False,  True,  True,  True,  True, False,  True,\n",
       "       False,  True])"
      ]
     },
     "execution_count": 26,
     "metadata": {},
     "output_type": "execute_result"
    }
   ],
   "source": [
    "model_outputs == y_train"
   ]
  },
  {
   "cell_type": "code",
   "execution_count": 27,
   "metadata": {},
   "outputs": [
    {
     "data": {
      "text/plain": [
       "0.7839285714285714"
      ]
     },
     "execution_count": 27,
     "metadata": {},
     "output_type": "execute_result"
    }
   ],
   "source": [
    "sum(model_outputs == y_train)/y_train.shape[0]"
   ]
  },
  {
   "cell_type": "code",
   "execution_count": 28,
   "metadata": {},
   "outputs": [
    {
     "data": {
      "text/plain": [
       "array([-0.22206736])"
      ]
     },
     "execution_count": 28,
     "metadata": {},
     "output_type": "execute_result"
    }
   ],
   "source": [
    "#lecture59\n",
    "#intercept/bias\n",
    "reg.intercept_"
   ]
  },
  {
   "cell_type": "code",
   "execution_count": 29,
   "metadata": {},
   "outputs": [
    {
     "data": {
      "text/plain": [
       "array([[ 0.70639316, -0.03986811, -0.20089491, -0.00456366,  0.31933564,\n",
       "        -0.135508  ,  0.38172443, -0.3332426 ,  2.07601767,  0.33504757,\n",
       "         1.56162303,  1.32927434,  0.18793677, -0.07062253]])"
      ]
     },
     "execution_count": 29,
     "metadata": {},
     "output_type": "execute_result"
    }
   ],
   "source": [
    "#coefficients/weights\n",
    "reg.coef_"
   ]
  },
  {
   "cell_type": "code",
   "execution_count": 30,
   "metadata": {},
   "outputs": [
    {
     "data": {
      "text/plain": [
       "array(['Transportation Expense', 'Distance to Work', 'Age',\n",
       "       'Daily Work Load Average', 'Body Mass Index', 'Education',\n",
       "       'Children', 'Pets', 'Reason_1', 'Reason_2', 'Reason_3', 'Reason_4',\n",
       "       'Month Value', 'Day of the Week'], dtype=object)"
      ]
     },
     "execution_count": 30,
     "metadata": {},
     "output_type": "execute_result"
    }
   ],
   "source": [
    "#scaled_data.columns.values #error\n",
    "unscaled_data.columns.values"
   ]
  },
  {
   "cell_type": "code",
   "execution_count": 31,
   "metadata": {},
   "outputs": [
    {
     "data": {
      "text/html": [
       "<div>\n",
       "<style scoped>\n",
       "    .dataframe tbody tr th:only-of-type {\n",
       "        vertical-align: middle;\n",
       "    }\n",
       "\n",
       "    .dataframe tbody tr th {\n",
       "        vertical-align: top;\n",
       "    }\n",
       "\n",
       "    .dataframe thead th {\n",
       "        text-align: right;\n",
       "    }\n",
       "</style>\n",
       "<table border=\"1\" class=\"dataframe\">\n",
       "  <thead>\n",
       "    <tr style=\"text-align: right;\">\n",
       "      <th></th>\n",
       "      <th>Feature name</th>\n",
       "      <th>Coefficient</th>\n",
       "    </tr>\n",
       "  </thead>\n",
       "  <tbody>\n",
       "    <tr>\n",
       "      <th>0</th>\n",
       "      <td>Transportation Expense</td>\n",
       "      <td>0.706393</td>\n",
       "    </tr>\n",
       "    <tr>\n",
       "      <th>1</th>\n",
       "      <td>Distance to Work</td>\n",
       "      <td>-0.039868</td>\n",
       "    </tr>\n",
       "    <tr>\n",
       "      <th>2</th>\n",
       "      <td>Age</td>\n",
       "      <td>-0.200895</td>\n",
       "    </tr>\n",
       "    <tr>\n",
       "      <th>3</th>\n",
       "      <td>Daily Work Load Average</td>\n",
       "      <td>-0.004564</td>\n",
       "    </tr>\n",
       "    <tr>\n",
       "      <th>4</th>\n",
       "      <td>Body Mass Index</td>\n",
       "      <td>0.319336</td>\n",
       "    </tr>\n",
       "    <tr>\n",
       "      <th>5</th>\n",
       "      <td>Education</td>\n",
       "      <td>-0.135508</td>\n",
       "    </tr>\n",
       "    <tr>\n",
       "      <th>6</th>\n",
       "      <td>Children</td>\n",
       "      <td>0.381724</td>\n",
       "    </tr>\n",
       "    <tr>\n",
       "      <th>7</th>\n",
       "      <td>Pets</td>\n",
       "      <td>-0.333243</td>\n",
       "    </tr>\n",
       "    <tr>\n",
       "      <th>8</th>\n",
       "      <td>Reason_1</td>\n",
       "      <td>2.076018</td>\n",
       "    </tr>\n",
       "    <tr>\n",
       "      <th>9</th>\n",
       "      <td>Reason_2</td>\n",
       "      <td>0.335048</td>\n",
       "    </tr>\n",
       "    <tr>\n",
       "      <th>10</th>\n",
       "      <td>Reason_3</td>\n",
       "      <td>1.561623</td>\n",
       "    </tr>\n",
       "    <tr>\n",
       "      <th>11</th>\n",
       "      <td>Reason_4</td>\n",
       "      <td>1.329274</td>\n",
       "    </tr>\n",
       "    <tr>\n",
       "      <th>12</th>\n",
       "      <td>Month Value</td>\n",
       "      <td>0.187937</td>\n",
       "    </tr>\n",
       "    <tr>\n",
       "      <th>13</th>\n",
       "      <td>Day of the Week</td>\n",
       "      <td>-0.070623</td>\n",
       "    </tr>\n",
       "  </tbody>\n",
       "</table>\n",
       "</div>"
      ],
      "text/plain": [
       "               Feature name  Coefficient\n",
       "0    Transportation Expense     0.706393\n",
       "1          Distance to Work    -0.039868\n",
       "2                       Age    -0.200895\n",
       "3   Daily Work Load Average    -0.004564\n",
       "4           Body Mass Index     0.319336\n",
       "5                 Education    -0.135508\n",
       "6                  Children     0.381724\n",
       "7                      Pets    -0.333243\n",
       "8                  Reason_1     2.076018\n",
       "9                  Reason_2     0.335048\n",
       "10                 Reason_3     1.561623\n",
       "11                 Reason_4     1.329274\n",
       "12              Month Value     0.187937\n",
       "13          Day of the Week    -0.070623"
      ]
     },
     "execution_count": 31,
     "metadata": {},
     "output_type": "execute_result"
    }
   ],
   "source": [
    "feature_name = unscaled_data.columns.values\n",
    "#feature_name\n",
    "summary_table = pd.DataFrame(columns =['Feature name'], data = feature_name)\n",
    "summary_table['Coefficient'] = np.transpose(reg.coef_)\n",
    "summary_table"
   ]
  },
  {
   "cell_type": "code",
   "execution_count": 32,
   "metadata": {
    "scrolled": true
   },
   "outputs": [
    {
     "data": {
      "text/html": [
       "<div>\n",
       "<style scoped>\n",
       "    .dataframe tbody tr th:only-of-type {\n",
       "        vertical-align: middle;\n",
       "    }\n",
       "\n",
       "    .dataframe tbody tr th {\n",
       "        vertical-align: top;\n",
       "    }\n",
       "\n",
       "    .dataframe thead th {\n",
       "        text-align: right;\n",
       "    }\n",
       "</style>\n",
       "<table border=\"1\" class=\"dataframe\">\n",
       "  <thead>\n",
       "    <tr style=\"text-align: right;\">\n",
       "      <th></th>\n",
       "      <th>Feature name</th>\n",
       "      <th>Coefficient</th>\n",
       "    </tr>\n",
       "  </thead>\n",
       "  <tbody>\n",
       "    <tr>\n",
       "      <th>0</th>\n",
       "      <td>Intercept</td>\n",
       "      <td>-0.222067</td>\n",
       "    </tr>\n",
       "    <tr>\n",
       "      <th>1</th>\n",
       "      <td>Transportation Expense</td>\n",
       "      <td>0.706393</td>\n",
       "    </tr>\n",
       "    <tr>\n",
       "      <th>2</th>\n",
       "      <td>Distance to Work</td>\n",
       "      <td>-0.039868</td>\n",
       "    </tr>\n",
       "    <tr>\n",
       "      <th>3</th>\n",
       "      <td>Age</td>\n",
       "      <td>-0.200895</td>\n",
       "    </tr>\n",
       "    <tr>\n",
       "      <th>4</th>\n",
       "      <td>Daily Work Load Average</td>\n",
       "      <td>-0.004564</td>\n",
       "    </tr>\n",
       "    <tr>\n",
       "      <th>5</th>\n",
       "      <td>Body Mass Index</td>\n",
       "      <td>0.319336</td>\n",
       "    </tr>\n",
       "    <tr>\n",
       "      <th>6</th>\n",
       "      <td>Education</td>\n",
       "      <td>-0.135508</td>\n",
       "    </tr>\n",
       "    <tr>\n",
       "      <th>7</th>\n",
       "      <td>Children</td>\n",
       "      <td>0.381724</td>\n",
       "    </tr>\n",
       "    <tr>\n",
       "      <th>8</th>\n",
       "      <td>Pets</td>\n",
       "      <td>-0.333243</td>\n",
       "    </tr>\n",
       "    <tr>\n",
       "      <th>9</th>\n",
       "      <td>Reason_1</td>\n",
       "      <td>2.076018</td>\n",
       "    </tr>\n",
       "    <tr>\n",
       "      <th>10</th>\n",
       "      <td>Reason_2</td>\n",
       "      <td>0.335048</td>\n",
       "    </tr>\n",
       "    <tr>\n",
       "      <th>11</th>\n",
       "      <td>Reason_3</td>\n",
       "      <td>1.561623</td>\n",
       "    </tr>\n",
       "    <tr>\n",
       "      <th>12</th>\n",
       "      <td>Reason_4</td>\n",
       "      <td>1.329274</td>\n",
       "    </tr>\n",
       "    <tr>\n",
       "      <th>13</th>\n",
       "      <td>Month Value</td>\n",
       "      <td>0.187937</td>\n",
       "    </tr>\n",
       "    <tr>\n",
       "      <th>14</th>\n",
       "      <td>Day of the Week</td>\n",
       "      <td>-0.070623</td>\n",
       "    </tr>\n",
       "  </tbody>\n",
       "</table>\n",
       "</div>"
      ],
      "text/plain": [
       "               Feature name  Coefficient\n",
       "0                 Intercept    -0.222067\n",
       "1    Transportation Expense     0.706393\n",
       "2          Distance to Work    -0.039868\n",
       "3                       Age    -0.200895\n",
       "4   Daily Work Load Average    -0.004564\n",
       "5           Body Mass Index     0.319336\n",
       "6                 Education    -0.135508\n",
       "7                  Children     0.381724\n",
       "8                      Pets    -0.333243\n",
       "9                  Reason_1     2.076018\n",
       "10                 Reason_2     0.335048\n",
       "11                 Reason_3     1.561623\n",
       "12                 Reason_4     1.329274\n",
       "13              Month Value     0.187937\n",
       "14          Day of the Week    -0.070623"
      ]
     },
     "execution_count": 32,
     "metadata": {},
     "output_type": "execute_result"
    }
   ],
   "source": [
    "summary_table.index = summary_table.index+1\n",
    "summary_table.loc[0] = ['Intercept', reg.intercept_[0]]\n",
    "summary_table = summary_table.sort_index()\n",
    "summary_table"
   ]
  },
  {
   "cell_type": "code",
   "execution_count": 33,
   "metadata": {
    "scrolled": true
   },
   "outputs": [
    {
     "data": {
      "text/html": [
       "<div>\n",
       "<style scoped>\n",
       "    .dataframe tbody tr th:only-of-type {\n",
       "        vertical-align: middle;\n",
       "    }\n",
       "\n",
       "    .dataframe tbody tr th {\n",
       "        vertical-align: top;\n",
       "    }\n",
       "\n",
       "    .dataframe thead th {\n",
       "        text-align: right;\n",
       "    }\n",
       "</style>\n",
       "<table border=\"1\" class=\"dataframe\">\n",
       "  <thead>\n",
       "    <tr style=\"text-align: right;\">\n",
       "      <th></th>\n",
       "      <th>Feature name</th>\n",
       "      <th>Coefficient</th>\n",
       "      <th>Odds_ratio</th>\n",
       "    </tr>\n",
       "  </thead>\n",
       "  <tbody>\n",
       "    <tr>\n",
       "      <th>0</th>\n",
       "      <td>Intercept</td>\n",
       "      <td>-0.222067</td>\n",
       "      <td>0.800861</td>\n",
       "    </tr>\n",
       "    <tr>\n",
       "      <th>1</th>\n",
       "      <td>Transportation Expense</td>\n",
       "      <td>0.706393</td>\n",
       "      <td>2.026668</td>\n",
       "    </tr>\n",
       "    <tr>\n",
       "      <th>2</th>\n",
       "      <td>Distance to Work</td>\n",
       "      <td>-0.039868</td>\n",
       "      <td>0.960916</td>\n",
       "    </tr>\n",
       "    <tr>\n",
       "      <th>3</th>\n",
       "      <td>Age</td>\n",
       "      <td>-0.200895</td>\n",
       "      <td>0.817998</td>\n",
       "    </tr>\n",
       "    <tr>\n",
       "      <th>4</th>\n",
       "      <td>Daily Work Load Average</td>\n",
       "      <td>-0.004564</td>\n",
       "      <td>0.995447</td>\n",
       "    </tr>\n",
       "    <tr>\n",
       "      <th>5</th>\n",
       "      <td>Body Mass Index</td>\n",
       "      <td>0.319336</td>\n",
       "      <td>1.376213</td>\n",
       "    </tr>\n",
       "    <tr>\n",
       "      <th>6</th>\n",
       "      <td>Education</td>\n",
       "      <td>-0.135508</td>\n",
       "      <td>0.873272</td>\n",
       "    </tr>\n",
       "    <tr>\n",
       "      <th>7</th>\n",
       "      <td>Children</td>\n",
       "      <td>0.381724</td>\n",
       "      <td>1.464808</td>\n",
       "    </tr>\n",
       "    <tr>\n",
       "      <th>8</th>\n",
       "      <td>Pets</td>\n",
       "      <td>-0.333243</td>\n",
       "      <td>0.716596</td>\n",
       "    </tr>\n",
       "    <tr>\n",
       "      <th>9</th>\n",
       "      <td>Reason_1</td>\n",
       "      <td>2.076018</td>\n",
       "      <td>7.972656</td>\n",
       "    </tr>\n",
       "    <tr>\n",
       "      <th>10</th>\n",
       "      <td>Reason_2</td>\n",
       "      <td>0.335048</td>\n",
       "      <td>1.398007</td>\n",
       "    </tr>\n",
       "    <tr>\n",
       "      <th>11</th>\n",
       "      <td>Reason_3</td>\n",
       "      <td>1.561623</td>\n",
       "      <td>4.766551</td>\n",
       "    </tr>\n",
       "    <tr>\n",
       "      <th>12</th>\n",
       "      <td>Reason_4</td>\n",
       "      <td>1.329274</td>\n",
       "      <td>3.778301</td>\n",
       "    </tr>\n",
       "    <tr>\n",
       "      <th>13</th>\n",
       "      <td>Month Value</td>\n",
       "      <td>0.187937</td>\n",
       "      <td>1.206757</td>\n",
       "    </tr>\n",
       "    <tr>\n",
       "      <th>14</th>\n",
       "      <td>Day of the Week</td>\n",
       "      <td>-0.070623</td>\n",
       "      <td>0.931814</td>\n",
       "    </tr>\n",
       "  </tbody>\n",
       "</table>\n",
       "</div>"
      ],
      "text/plain": [
       "               Feature name  Coefficient  Odds_ratio\n",
       "0                 Intercept    -0.222067    0.800861\n",
       "1    Transportation Expense     0.706393    2.026668\n",
       "2          Distance to Work    -0.039868    0.960916\n",
       "3                       Age    -0.200895    0.817998\n",
       "4   Daily Work Load Average    -0.004564    0.995447\n",
       "5           Body Mass Index     0.319336    1.376213\n",
       "6                 Education    -0.135508    0.873272\n",
       "7                  Children     0.381724    1.464808\n",
       "8                      Pets    -0.333243    0.716596\n",
       "9                  Reason_1     2.076018    7.972656\n",
       "10                 Reason_2     0.335048    1.398007\n",
       "11                 Reason_3     1.561623    4.766551\n",
       "12                 Reason_4     1.329274    3.778301\n",
       "13              Month Value     0.187937    1.206757\n",
       "14          Day of the Week    -0.070623    0.931814"
      ]
     },
     "execution_count": 33,
     "metadata": {},
     "output_type": "execute_result"
    }
   ],
   "source": [
    "summary_table['Odds_ratio'] = np.exp(summary_table.Coefficient)\n",
    "summary_table"
   ]
  },
  {
   "cell_type": "code",
   "execution_count": 34,
   "metadata": {
    "scrolled": true
   },
   "outputs": [
    {
     "data": {
      "text/html": [
       "<div>\n",
       "<style scoped>\n",
       "    .dataframe tbody tr th:only-of-type {\n",
       "        vertical-align: middle;\n",
       "    }\n",
       "\n",
       "    .dataframe tbody tr th {\n",
       "        vertical-align: top;\n",
       "    }\n",
       "\n",
       "    .dataframe thead th {\n",
       "        text-align: right;\n",
       "    }\n",
       "</style>\n",
       "<table border=\"1\" class=\"dataframe\">\n",
       "  <thead>\n",
       "    <tr style=\"text-align: right;\">\n",
       "      <th></th>\n",
       "      <th>Feature name</th>\n",
       "      <th>Coefficient</th>\n",
       "      <th>Odds_ratio</th>\n",
       "    </tr>\n",
       "  </thead>\n",
       "  <tbody>\n",
       "    <tr>\n",
       "      <th>9</th>\n",
       "      <td>Reason_1</td>\n",
       "      <td>2.076018</td>\n",
       "      <td>7.972656</td>\n",
       "    </tr>\n",
       "    <tr>\n",
       "      <th>11</th>\n",
       "      <td>Reason_3</td>\n",
       "      <td>1.561623</td>\n",
       "      <td>4.766551</td>\n",
       "    </tr>\n",
       "    <tr>\n",
       "      <th>12</th>\n",
       "      <td>Reason_4</td>\n",
       "      <td>1.329274</td>\n",
       "      <td>3.778301</td>\n",
       "    </tr>\n",
       "    <tr>\n",
       "      <th>1</th>\n",
       "      <td>Transportation Expense</td>\n",
       "      <td>0.706393</td>\n",
       "      <td>2.026668</td>\n",
       "    </tr>\n",
       "    <tr>\n",
       "      <th>7</th>\n",
       "      <td>Children</td>\n",
       "      <td>0.381724</td>\n",
       "      <td>1.464808</td>\n",
       "    </tr>\n",
       "    <tr>\n",
       "      <th>10</th>\n",
       "      <td>Reason_2</td>\n",
       "      <td>0.335048</td>\n",
       "      <td>1.398007</td>\n",
       "    </tr>\n",
       "    <tr>\n",
       "      <th>5</th>\n",
       "      <td>Body Mass Index</td>\n",
       "      <td>0.319336</td>\n",
       "      <td>1.376213</td>\n",
       "    </tr>\n",
       "    <tr>\n",
       "      <th>13</th>\n",
       "      <td>Month Value</td>\n",
       "      <td>0.187937</td>\n",
       "      <td>1.206757</td>\n",
       "    </tr>\n",
       "    <tr>\n",
       "      <th>4</th>\n",
       "      <td>Daily Work Load Average</td>\n",
       "      <td>-0.004564</td>\n",
       "      <td>0.995447</td>\n",
       "    </tr>\n",
       "    <tr>\n",
       "      <th>2</th>\n",
       "      <td>Distance to Work</td>\n",
       "      <td>-0.039868</td>\n",
       "      <td>0.960916</td>\n",
       "    </tr>\n",
       "    <tr>\n",
       "      <th>14</th>\n",
       "      <td>Day of the Week</td>\n",
       "      <td>-0.070623</td>\n",
       "      <td>0.931814</td>\n",
       "    </tr>\n",
       "    <tr>\n",
       "      <th>6</th>\n",
       "      <td>Education</td>\n",
       "      <td>-0.135508</td>\n",
       "      <td>0.873272</td>\n",
       "    </tr>\n",
       "    <tr>\n",
       "      <th>3</th>\n",
       "      <td>Age</td>\n",
       "      <td>-0.200895</td>\n",
       "      <td>0.817998</td>\n",
       "    </tr>\n",
       "    <tr>\n",
       "      <th>0</th>\n",
       "      <td>Intercept</td>\n",
       "      <td>-0.222067</td>\n",
       "      <td>0.800861</td>\n",
       "    </tr>\n",
       "    <tr>\n",
       "      <th>8</th>\n",
       "      <td>Pets</td>\n",
       "      <td>-0.333243</td>\n",
       "      <td>0.716596</td>\n",
       "    </tr>\n",
       "  </tbody>\n",
       "</table>\n",
       "</div>"
      ],
      "text/plain": [
       "               Feature name  Coefficient  Odds_ratio\n",
       "9                  Reason_1     2.076018    7.972656\n",
       "11                 Reason_3     1.561623    4.766551\n",
       "12                 Reason_4     1.329274    3.778301\n",
       "1    Transportation Expense     0.706393    2.026668\n",
       "7                  Children     0.381724    1.464808\n",
       "10                 Reason_2     0.335048    1.398007\n",
       "5           Body Mass Index     0.319336    1.376213\n",
       "13              Month Value     0.187937    1.206757\n",
       "4   Daily Work Load Average    -0.004564    0.995447\n",
       "2          Distance to Work    -0.039868    0.960916\n",
       "14          Day of the Week    -0.070623    0.931814\n",
       "6                 Education    -0.135508    0.873272\n",
       "3                       Age    -0.200895    0.817998\n",
       "0                 Intercept    -0.222067    0.800861\n",
       "8                      Pets    -0.333243    0.716596"
      ]
     },
     "execution_count": 34,
     "metadata": {},
     "output_type": "execute_result"
    }
   ],
   "source": [
    "summary_table.sort_values('Odds_ratio', ascending=False)"
   ]
  },
  {
   "cell_type": "markdown",
   "metadata": {},
   "source": [
    "### Testing the model"
   ]
  },
  {
   "cell_type": "code",
   "execution_count": 36,
   "metadata": {},
   "outputs": [
    {
     "data": {
      "text/plain": [
       "0.7357142857142858"
      ]
     },
     "execution_count": 36,
     "metadata": {},
     "output_type": "execute_result"
    }
   ],
   "source": [
    "#lecture64\n",
    "reg.score(x_test,y_test)"
   ]
  },
  {
   "cell_type": "code",
   "execution_count": 39,
   "metadata": {},
   "outputs": [
    {
     "data": {
      "text/plain": [
       "array([[0.73864865, 0.26135135],\n",
       "       [0.58845661, 0.41154339],\n",
       "       [0.36763564, 0.63236436],\n",
       "       [0.81198089, 0.18801911],\n",
       "       [0.0613996 , 0.9386004 ],\n",
       "       [0.30742403, 0.69257597],\n",
       "       [0.29538175, 0.70461825],\n",
       "       [0.08106026, 0.91893974],\n",
       "       [0.80435611, 0.19564389],\n",
       "       [0.76038732, 0.23961268],\n",
       "       [0.46271934, 0.53728066],\n",
       "       [0.15484755, 0.84515245],\n",
       "       [0.04619732, 0.95380268],\n",
       "       [0.72991038, 0.27008962],\n",
       "       [0.23140393, 0.76859607],\n",
       "       [0.55130442, 0.44869558],\n",
       "       [0.5292476 , 0.4707524 ],\n",
       "       [0.55522744, 0.44477256],\n",
       "       [0.38197963, 0.61802037],\n",
       "       [0.02527634, 0.97472366],\n",
       "       [0.69617984, 0.30382016],\n",
       "       [0.80458387, 0.19541613],\n",
       "       [0.37734902, 0.62265098],\n",
       "       [0.40003074, 0.59996926],\n",
       "       [0.18229161, 0.81770839],\n",
       "       [0.76011784, 0.23988216],\n",
       "       [0.47050402, 0.52949598],\n",
       "       [0.88997625, 0.11002375],\n",
       "       [0.13577639, 0.86422361],\n",
       "       [0.7969686 , 0.2030314 ],\n",
       "       [0.61545173, 0.38454827],\n",
       "       [0.29540849, 0.70459151],\n",
       "       [0.29861822, 0.70138178],\n",
       "       [0.43636107, 0.56363893],\n",
       "       [0.80458387, 0.19541613],\n",
       "       [0.45743759, 0.54256241],\n",
       "       [0.79495044, 0.20504956],\n",
       "       [0.17927677, 0.82072323],\n",
       "       [0.55533981, 0.44466019],\n",
       "       [0.38891781, 0.61108219],\n",
       "       [0.79091218, 0.20908782],\n",
       "       [0.59718847, 0.40281153],\n",
       "       [0.78626379, 0.21373621],\n",
       "       [0.90155909, 0.09844091],\n",
       "       [0.15775504, 0.84224496],\n",
       "       [0.33387011, 0.66612989],\n",
       "       [0.28327069, 0.71672931],\n",
       "       [0.73017956, 0.26982044],\n",
       "       [0.79844264, 0.20155736],\n",
       "       [0.82929957, 0.17070043],\n",
       "       [0.4266055 , 0.5733945 ],\n",
       "       [0.91701038, 0.08298962],\n",
       "       [0.32068258, 0.67931742],\n",
       "       [0.71369671, 0.28630329],\n",
       "       [0.12746591, 0.87253409],\n",
       "       [0.51453431, 0.48546569],\n",
       "       [0.0674669 , 0.9325331 ],\n",
       "       [0.7537751 , 0.2462249 ],\n",
       "       [0.91830328, 0.08169672],\n",
       "       [0.91760659, 0.08239341],\n",
       "       [0.27204448, 0.72795552],\n",
       "       [0.3304846 , 0.6695154 ],\n",
       "       [0.68798136, 0.31201864],\n",
       "       [0.13973706, 0.86026294],\n",
       "       [0.8161173 , 0.1838827 ],\n",
       "       [0.7403345 , 0.2596655 ],\n",
       "       [0.9868338 , 0.0131662 ],\n",
       "       [0.77970087, 0.22029913],\n",
       "       [0.1876351 , 0.8123649 ],\n",
       "       [0.68546135, 0.31453865],\n",
       "       [0.79566259, 0.20433741],\n",
       "       [0.92871986, 0.07128014],\n",
       "       [0.06674077, 0.93325923],\n",
       "       [0.53680529, 0.46319471],\n",
       "       [0.34482822, 0.65517178],\n",
       "       [0.7969686 , 0.2030314 ],\n",
       "       [0.14871293, 0.85128707],\n",
       "       [0.28022733, 0.71977267],\n",
       "       [0.21027431, 0.78972569],\n",
       "       [0.30962571, 0.69037429],\n",
       "       [0.75845751, 0.24154249],\n",
       "       [0.98786963, 0.01213037],\n",
       "       [0.78013291, 0.21986709],\n",
       "       [0.23875535, 0.76124465],\n",
       "       [0.56495539, 0.43504461],\n",
       "       [0.90095328, 0.09904672],\n",
       "       [0.28305419, 0.71694581],\n",
       "       [0.4111126 , 0.5888874 ],\n",
       "       [0.9508767 , 0.0491233 ],\n",
       "       [0.30544114, 0.69455886],\n",
       "       [0.86512466, 0.13487534],\n",
       "       [0.87785212, 0.12214788],\n",
       "       [0.78847559, 0.21152441],\n",
       "       [0.72202798, 0.27797202],\n",
       "       [0.7773488 , 0.2226512 ],\n",
       "       [0.10736118, 0.89263882],\n",
       "       [0.72743745, 0.27256255],\n",
       "       [0.19062097, 0.80937903],\n",
       "       [0.77148365, 0.22851635],\n",
       "       [0.80086491, 0.19913509],\n",
       "       [0.33158859, 0.66841141],\n",
       "       [0.28556989, 0.71443011],\n",
       "       [0.26961577, 0.73038423],\n",
       "       [0.27672965, 0.72327035],\n",
       "       [0.51458792, 0.48541208],\n",
       "       [0.46364011, 0.53635989],\n",
       "       [0.74879857, 0.25120143],\n",
       "       [0.12187794, 0.87812206],\n",
       "       [0.20095775, 0.79904225],\n",
       "       [0.85670113, 0.14329887],\n",
       "       [0.98908819, 0.01091181],\n",
       "       [0.07567792, 0.92432208],\n",
       "       [0.26259581, 0.73740419],\n",
       "       [0.64224866, 0.35775134],\n",
       "       [0.42437799, 0.57562201],\n",
       "       [0.39738903, 0.60261097],\n",
       "       [0.13024216, 0.86975784],\n",
       "       [0.16722385, 0.83277615],\n",
       "       [0.46572923, 0.53427077],\n",
       "       [0.69383587, 0.30616413],\n",
       "       [0.76723907, 0.23276093],\n",
       "       [0.85612112, 0.14387888],\n",
       "       [0.1284117 , 0.8715883 ],\n",
       "       [0.56231091, 0.43768909],\n",
       "       [0.7969686 , 0.2030314 ],\n",
       "       [0.62489141, 0.37510859],\n",
       "       [0.8136116 , 0.1863884 ],\n",
       "       [0.89309299, 0.10690701],\n",
       "       [0.23385734, 0.76614266],\n",
       "       [0.68505831, 0.31494169],\n",
       "       [0.33285298, 0.66714702],\n",
       "       [0.80604176, 0.19395824],\n",
       "       [0.6879822 , 0.3120178 ],\n",
       "       [0.65781679, 0.34218321],\n",
       "       [0.71446029, 0.28553971],\n",
       "       [0.45907711, 0.54092289],\n",
       "       [0.5396467 , 0.4603533 ],\n",
       "       [0.70364311, 0.29635689],\n",
       "       [0.74526002, 0.25473998],\n",
       "       [0.53622983, 0.46377017]])"
      ]
     },
     "execution_count": 39,
     "metadata": {},
     "output_type": "execute_result"
    }
   ],
   "source": [
    "predicted_prob = reg.predict_proba(x_test)\n",
    "predicted_prob"
   ]
  },
  {
   "cell_type": "code",
   "execution_count": 41,
   "metadata": {},
   "outputs": [
    {
     "data": {
      "text/plain": [
       "(140, 2)"
      ]
     },
     "execution_count": 41,
     "metadata": {},
     "output_type": "execute_result"
    }
   ],
   "source": [
    "predicted_prob.shape"
   ]
  },
  {
   "cell_type": "code",
   "execution_count": 42,
   "metadata": {},
   "outputs": [
    {
     "data": {
      "text/plain": [
       "array([0.26135135, 0.41154339, 0.63236436, 0.18801911, 0.9386004 ,\n",
       "       0.69257597, 0.70461825, 0.91893974, 0.19564389, 0.23961268,\n",
       "       0.53728066, 0.84515245, 0.95380268, 0.27008962, 0.76859607,\n",
       "       0.44869558, 0.4707524 , 0.44477256, 0.61802037, 0.97472366,\n",
       "       0.30382016, 0.19541613, 0.62265098, 0.59996926, 0.81770839,\n",
       "       0.23988216, 0.52949598, 0.11002375, 0.86422361, 0.2030314 ,\n",
       "       0.38454827, 0.70459151, 0.70138178, 0.56363893, 0.19541613,\n",
       "       0.54256241, 0.20504956, 0.82072323, 0.44466019, 0.61108219,\n",
       "       0.20908782, 0.40281153, 0.21373621, 0.09844091, 0.84224496,\n",
       "       0.66612989, 0.71672931, 0.26982044, 0.20155736, 0.17070043,\n",
       "       0.5733945 , 0.08298962, 0.67931742, 0.28630329, 0.87253409,\n",
       "       0.48546569, 0.9325331 , 0.2462249 , 0.08169672, 0.08239341,\n",
       "       0.72795552, 0.6695154 , 0.31201864, 0.86026294, 0.1838827 ,\n",
       "       0.2596655 , 0.0131662 , 0.22029913, 0.8123649 , 0.31453865,\n",
       "       0.20433741, 0.07128014, 0.93325923, 0.46319471, 0.65517178,\n",
       "       0.2030314 , 0.85128707, 0.71977267, 0.78972569, 0.69037429,\n",
       "       0.24154249, 0.01213037, 0.21986709, 0.76124465, 0.43504461,\n",
       "       0.09904672, 0.71694581, 0.5888874 , 0.0491233 , 0.69455886,\n",
       "       0.13487534, 0.12214788, 0.21152441, 0.27797202, 0.2226512 ,\n",
       "       0.89263882, 0.27256255, 0.80937903, 0.22851635, 0.19913509,\n",
       "       0.66841141, 0.71443011, 0.73038423, 0.72327035, 0.48541208,\n",
       "       0.53635989, 0.25120143, 0.87812206, 0.79904225, 0.14329887,\n",
       "       0.01091181, 0.92432208, 0.73740419, 0.35775134, 0.57562201,\n",
       "       0.60261097, 0.86975784, 0.83277615, 0.53427077, 0.30616413,\n",
       "       0.23276093, 0.14387888, 0.8715883 , 0.43768909, 0.2030314 ,\n",
       "       0.37510859, 0.1863884 , 0.10690701, 0.76614266, 0.31494169,\n",
       "       0.66714702, 0.19395824, 0.3120178 , 0.34218321, 0.28553971,\n",
       "       0.54092289, 0.4603533 , 0.29635689, 0.25473998, 0.46377017])"
      ]
     },
     "execution_count": 42,
     "metadata": {},
     "output_type": "execute_result"
    }
   ],
   "source": [
    "predicted_prob[:,1]"
   ]
  },
  {
   "cell_type": "code",
   "execution_count": 45,
   "metadata": {},
   "outputs": [],
   "source": [
    "#save model\n",
    "import pickle"
   ]
  },
  {
   "cell_type": "code",
   "execution_count": 46,
   "metadata": {},
   "outputs": [],
   "source": [
    "with open('model','wb') as file:\n",
    "    pickle.dump(reg, file)"
   ]
  },
  {
   "cell_type": "code",
   "execution_count": 48,
   "metadata": {},
   "outputs": [],
   "source": [
    "with open('scaler','wb') as file:\n",
    "    pickle.dump(absenteeism_scaler, file)"
   ]
  },
  {
   "cell_type": "code",
   "execution_count": null,
   "metadata": {},
   "outputs": [],
   "source": []
  }
 ],
 "metadata": {
  "kernelspec": {
   "display_name": "Python 3",
   "language": "python",
   "name": "python3"
  },
  "language_info": {
   "codemirror_mode": {
    "name": "ipython",
    "version": 3
   },
   "file_extension": ".py",
   "mimetype": "text/x-python",
   "name": "python",
   "nbconvert_exporter": "python",
   "pygments_lexer": "ipython3",
   "version": "3.8.5"
  }
 },
 "nbformat": 4,
 "nbformat_minor": 4
}
