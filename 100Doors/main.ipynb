{
 "cells": [
  {
   "cell_type": "code",
   "execution_count": 1,
   "source": [
    "import numpy as np"
   ],
   "outputs": [],
   "metadata": {}
  },
  {
   "cell_type": "code",
   "execution_count": 2,
   "source": [
    "from os import system, name\r\n",
    "from time import sleep\r\n",
    "\r\n",
    "# define our clear function\r\n",
    "def clear():\r\n",
    "  \r\n",
    "    # for windows\r\n",
    "    if name == 'nt':\r\n",
    "        _ = system('cls')\r\n",
    "  \r\n",
    "    # for mac and linux(here, os.name is 'posix')\r\n",
    "    else:\r\n",
    "        _ = system('clear')"
   ],
   "outputs": [],
   "metadata": {}
  },
  {
   "cell_type": "code",
   "execution_count": 8,
   "source": [
    "#brute-force\r\n",
    "door = np.repeat(False, 100)\r\n",
    "\r\n",
    "for i in range(0,100): #visit\r\n",
    "    for index in range(i,100): #doors\r\n",
    "        if (index+1)%(i+1) == 0:\r\n",
    "            door[index] = 1 - door[index]\r\n",
    "    clear()\r\n",
    "    sleep(1)\r\n",
    "    print(door)\r\n",
    "\r\n",
    "print(\"Total = \",sum(door))"
   ],
   "outputs": [
    {
     "output_type": "stream",
     "name": "stdout",
     "text": [
      "10\n"
     ]
    }
   ],
   "metadata": {}
  },
  {
   "cell_type": "code",
   "execution_count": null,
   "source": [],
   "outputs": [],
   "metadata": {}
  }
 ],
 "metadata": {
  "orig_nbformat": 4,
  "language_info": {
   "name": "python",
   "version": "3.8.10",
   "mimetype": "text/x-python",
   "codemirror_mode": {
    "name": "ipython",
    "version": 3
   },
   "pygments_lexer": "ipython3",
   "nbconvert_exporter": "python",
   "file_extension": ".py"
  },
  "kernelspec": {
   "name": "python3",
   "display_name": "Python 3.8.10 64-bit"
  },
  "interpreter": {
   "hash": "1baa965d5efe3ac65b79dfc60c0d706280b1da80fedb7760faf2759126c4f253"
  }
 },
 "nbformat": 4,
 "nbformat_minor": 2
}